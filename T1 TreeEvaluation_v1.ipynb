{
 "nbformat": 4,
 "nbformat_minor": 0,
 "metadata": {
  "kernelspec": {
   "name": "python3",
   "display_name": "Python 3.7.10 64-bit ('base': conda)"
  },
  "language_info": {
   "codemirror_mode": {
    "name": "ipython",
    "version": 3
   },
   "file_extension": ".py",
   "mimetype": "text/x-python",
   "name": "python",
   "nbconvert_exporter": "python",
   "pygments_lexer": "ipython3",
   "version": "3.7.10"
  },
  "interpreter": {
   "hash": "b3ba2566441a7c06988d0923437866b63cedc61552a5af99d1f4fb67d367b25f"
  },
  "colab": {
   "provenance": [],
   "toc_visible": true
  }
 },
 "cells": [
  {
   "cell_type": "markdown",
   "source": [
    "![LogoUC3M](https://www.fundacion.uc3m.es/wp-content/uploads/2018/11/Logo-UC3M-nuevo.png)\n",
    "\n",
    "### Aprendizaje Automático · Grado en Ingeniería Informática · Curso 2022/23\n",
    "# Tutorial 1: Introducción a scikit-learn"
   ],
   "metadata": {
    "id": "o2hmgFXEyINA"
   }
  },
  {
   "cell_type": "code",
   "source": [
    "!python --version "
   ],
   "metadata": {
    "colab": {
     "base_uri": "https://localhost:8080/"
    },
    "id": "zpryCNicSrP-",
    "executionInfo": {
     "status": "ok",
     "timestamp": 1676218777738,
     "user_tz": -60,
     "elapsed": 271,
     "user": {
      "displayName": "EMILIO MARTIN GALLARDO",
      "userId": "07497084488985389597"
     }
    },
    "outputId": "351ba13b-a764-4bc0-d760-7caaf537c077"
   },
   "execution_count": 1,
   "outputs": [
    {
     "output_type": "stream",
     "name": "stdout",
     "text": [
      "Python 3.8.10\n"
     ]
    }
   ]
  },
  {
   "cell_type": "code",
   "metadata": {
    "id": "R2rNJKxq1fTI",
    "colab": {
     "base_uri": "https://localhost:8080/"
    },
    "outputId": "a2122ae0-7f42-4903-fd44-6471804e3bb8",
    "executionInfo": {
     "status": "ok",
     "timestamp": 1676218793000,
     "user_tz": -60,
     "elapsed": 15264,
     "user": {
      "displayName": "EMILIO MARTIN GALLARDO",
      "userId": "07497084488985389597"
     }
    }
   },
   "source": [
    "# This is for installing model trees, that will be used at the end\n",
    "!pip install --upgrade linear-tree\n",
    "\n",
    "# More info about this implementation of model trees\n",
    "# https://towardsdatascience.com/linear-tree-the-perfect-mix-of-linear-model-and-decision-tree-2eaed21936b7\n",
    "# https://pypi.org/project/linear-tree/\n",
    "\n",
    "# Install statsmodels for confidence intervals\n",
    "!pip install statsmodels"
   ],
   "execution_count": 2,
   "outputs": [
    {
     "output_type": "stream",
     "name": "stdout",
     "text": [
      "Looking in indexes: https://pypi.org/simple, https://us-python.pkg.dev/colab-wheels/public/simple/\n",
      "Collecting linear-tree\n",
      "  Downloading linear_tree-0.3.5-py3-none-any.whl (21 kB)\n",
      "Requirement already satisfied: scipy in /usr/local/lib/python3.8/dist-packages (from linear-tree) (1.7.3)\n",
      "Requirement already satisfied: scikit-learn>=0.24.2 in /usr/local/lib/python3.8/dist-packages (from linear-tree) (1.0.2)\n",
      "Requirement already satisfied: numpy in /usr/local/lib/python3.8/dist-packages (from linear-tree) (1.21.6)\n",
      "Requirement already satisfied: joblib>=0.11 in /usr/local/lib/python3.8/dist-packages (from scikit-learn>=0.24.2->linear-tree) (1.2.0)\n",
      "Requirement already satisfied: threadpoolctl>=2.0.0 in /usr/local/lib/python3.8/dist-packages (from scikit-learn>=0.24.2->linear-tree) (3.1.0)\n",
      "Installing collected packages: linear-tree\n",
      "Successfully installed linear-tree-0.3.5\n",
      "Looking in indexes: https://pypi.org/simple, https://us-python.pkg.dev/colab-wheels/public/simple/\n",
      "Requirement already satisfied: statsmodels in /usr/local/lib/python3.8/dist-packages (0.12.2)\n",
      "Requirement already satisfied: scipy>=1.1 in /usr/local/lib/python3.8/dist-packages (from statsmodels) (1.7.3)\n",
      "Requirement already satisfied: pandas>=0.21 in /usr/local/lib/python3.8/dist-packages (from statsmodels) (1.3.5)\n",
      "Requirement already satisfied: patsy>=0.5 in /usr/local/lib/python3.8/dist-packages (from statsmodels) (0.5.3)\n",
      "Requirement already satisfied: numpy>=1.15 in /usr/local/lib/python3.8/dist-packages (from statsmodels) (1.21.6)\n",
      "Requirement already satisfied: python-dateutil>=2.7.3 in /usr/local/lib/python3.8/dist-packages (from pandas>=0.21->statsmodels) (2.8.2)\n",
      "Requirement already satisfied: pytz>=2017.3 in /usr/local/lib/python3.8/dist-packages (from pandas>=0.21->statsmodels) (2022.7.1)\n",
      "Requirement already satisfied: six in /usr/local/lib/python3.8/dist-packages (from patsy>=0.5->statsmodels) (1.15.0)\n"
     ]
    }
   ]
  },
  {
   "cell_type": "markdown",
   "metadata": {
    "id": "cWAOeLZ94XOz"
   },
   "source": [
    "# Using Python:\n",
    "- Base Python (python without extra libraries): lists, dictionaries, sets, ...\n",
    "- numpy: vectors and matrices with numbers\n",
    "- pandas: data.frames"
   ]
  },
  {
   "cell_type": "markdown",
   "metadata": {
    "id": "MS7sU2en7dVC"
   },
   "source": [
    "This is a list (base Python)"
   ]
  },
  {
   "cell_type": "code",
   "metadata": {
    "id": "FfuwVwX65nqi",
    "colab": {
     "base_uri": "https://localhost:8080/"
    },
    "outputId": "09c98256-0982-4dcf-a307-1d45e03facc3",
    "executionInfo": {
     "status": "ok",
     "timestamp": 1676218793000,
     "user_tz": -60,
     "elapsed": 14,
     "user": {
      "displayName": "EMILIO MARTIN GALLARDO",
      "userId": "07497084488985389597"
     }
    }
   },
   "source": [
    "a = [1, 2, 3]\n",
    "print(a)"
   ],
   "execution_count": 3,
   "outputs": [
    {
     "output_type": "stream",
     "name": "stdout",
     "text": [
      "[1, 2, 3]\n"
     ]
    }
   ]
  },
  {
   "cell_type": "markdown",
   "metadata": {
    "id": "ZAEx9NdA7jby"
   },
   "source": [
    "This is a numpy vector and a numpy matrix. They can only contain numbers."
   ]
  },
  {
   "cell_type": "code",
   "metadata": {
    "id": "9kybjyy77jra",
    "colab": {
     "base_uri": "https://localhost:8080/"
    },
    "outputId": "f5d56f73-be28-4585-8c0b-fa4e4255fb9a",
    "executionInfo": {
     "status": "ok",
     "timestamp": 1676218793000,
     "user_tz": -60,
     "elapsed": 9,
     "user": {
      "displayName": "EMILIO MARTIN GALLARDO",
      "userId": "07497084488985389597"
     }
    }
   },
   "source": [
    "import numpy as np\n",
    "\n",
    "print('This is a vector:')\n",
    "\n",
    "a = np.array([1, 2, 3])\n",
    "print(a)\n",
    "\n",
    "print()\n",
    "\n",
    "print('Ths is a matrix:')\n",
    "b = np.array([[1,2,3], \n",
    "              [4,5,6]])\n",
    "print(b)"
   ],
   "execution_count": 4,
   "outputs": [
    {
     "output_type": "stream",
     "name": "stdout",
     "text": [
      "This is a vector:\n",
      "[1 2 3]\n",
      "\n",
      "Ths is a matrix:\n",
      "[[1 2 3]\n",
      " [4 5 6]]\n"
     ]
    }
   ]
  },
  {
   "cell_type": "markdown",
   "metadata": {
    "id": "m1NceMWE8FDD"
   },
   "source": [
    "This is a pandas dataframe. It can contain different columns, some of them with numbers, some of them with categorical values. "
   ]
  },
  {
   "cell_type": "code",
   "metadata": {
    "id": "mt5NzVA18FM6",
    "colab": {
     "base_uri": "https://localhost:8080/",
     "height": 143
    },
    "outputId": "fefea065-abb9-49a5-cbd9-602d051943e1",
    "executionInfo": {
     "status": "ok",
     "timestamp": 1676218793988,
     "user_tz": -60,
     "elapsed": 994,
     "user": {
      "displayName": "EMILIO MARTIN GALLARDO",
      "userId": "07497084488985389597"
     }
    }
   },
   "source": [
    "import pandas as pd\n",
    "pd.DataFrame({'a':[1,2,3], 'b':['a', 'b', 'c']})"
   ],
   "execution_count": 5,
   "outputs": [
    {
     "output_type": "execute_result",
     "data": {
      "text/plain": [
       "   a  b\n",
       "0  1  a\n",
       "1  2  b\n",
       "2  3  c"
      ],
      "text/html": [
       "\n",
       "  <div id=\"df-35b095e8-eb01-470d-989a-c0565408b931\">\n",
       "    <div class=\"colab-df-container\">\n",
       "      <div>\n",
       "<style scoped>\n",
       "    .dataframe tbody tr th:only-of-type {\n",
       "        vertical-align: middle;\n",
       "    }\n",
       "\n",
       "    .dataframe tbody tr th {\n",
       "        vertical-align: top;\n",
       "    }\n",
       "\n",
       "    .dataframe thead th {\n",
       "        text-align: right;\n",
       "    }\n",
       "</style>\n",
       "<table border=\"1\" class=\"dataframe\">\n",
       "  <thead>\n",
       "    <tr style=\"text-align: right;\">\n",
       "      <th></th>\n",
       "      <th>a</th>\n",
       "      <th>b</th>\n",
       "    </tr>\n",
       "  </thead>\n",
       "  <tbody>\n",
       "    <tr>\n",
       "      <th>0</th>\n",
       "      <td>1</td>\n",
       "      <td>a</td>\n",
       "    </tr>\n",
       "    <tr>\n",
       "      <th>1</th>\n",
       "      <td>2</td>\n",
       "      <td>b</td>\n",
       "    </tr>\n",
       "    <tr>\n",
       "      <th>2</th>\n",
       "      <td>3</td>\n",
       "      <td>c</td>\n",
       "    </tr>\n",
       "  </tbody>\n",
       "</table>\n",
       "</div>\n",
       "      <button class=\"colab-df-convert\" onclick=\"convertToInteractive('df-35b095e8-eb01-470d-989a-c0565408b931')\"\n",
       "              title=\"Convert this dataframe to an interactive table.\"\n",
       "              style=\"display:none;\">\n",
       "        \n",
       "  <svg xmlns=\"http://www.w3.org/2000/svg\" height=\"24px\"viewBox=\"0 0 24 24\"\n",
       "       width=\"24px\">\n",
       "    <path d=\"M0 0h24v24H0V0z\" fill=\"none\"/>\n",
       "    <path d=\"M18.56 5.44l.94 2.06.94-2.06 2.06-.94-2.06-.94-.94-2.06-.94 2.06-2.06.94zm-11 1L8.5 8.5l.94-2.06 2.06-.94-2.06-.94L8.5 2.5l-.94 2.06-2.06.94zm10 10l.94 2.06.94-2.06 2.06-.94-2.06-.94-.94-2.06-.94 2.06-2.06.94z\"/><path d=\"M17.41 7.96l-1.37-1.37c-.4-.4-.92-.59-1.43-.59-.52 0-1.04.2-1.43.59L10.3 9.45l-7.72 7.72c-.78.78-.78 2.05 0 2.83L4 21.41c.39.39.9.59 1.41.59.51 0 1.02-.2 1.41-.59l7.78-7.78 2.81-2.81c.8-.78.8-2.07 0-2.86zM5.41 20L4 18.59l7.72-7.72 1.47 1.35L5.41 20z\"/>\n",
       "  </svg>\n",
       "      </button>\n",
       "      \n",
       "  <style>\n",
       "    .colab-df-container {\n",
       "      display:flex;\n",
       "      flex-wrap:wrap;\n",
       "      gap: 12px;\n",
       "    }\n",
       "\n",
       "    .colab-df-convert {\n",
       "      background-color: #E8F0FE;\n",
       "      border: none;\n",
       "      border-radius: 50%;\n",
       "      cursor: pointer;\n",
       "      display: none;\n",
       "      fill: #1967D2;\n",
       "      height: 32px;\n",
       "      padding: 0 0 0 0;\n",
       "      width: 32px;\n",
       "    }\n",
       "\n",
       "    .colab-df-convert:hover {\n",
       "      background-color: #E2EBFA;\n",
       "      box-shadow: 0px 1px 2px rgba(60, 64, 67, 0.3), 0px 1px 3px 1px rgba(60, 64, 67, 0.15);\n",
       "      fill: #174EA6;\n",
       "    }\n",
       "\n",
       "    [theme=dark] .colab-df-convert {\n",
       "      background-color: #3B4455;\n",
       "      fill: #D2E3FC;\n",
       "    }\n",
       "\n",
       "    [theme=dark] .colab-df-convert:hover {\n",
       "      background-color: #434B5C;\n",
       "      box-shadow: 0px 1px 3px 1px rgba(0, 0, 0, 0.15);\n",
       "      filter: drop-shadow(0px 1px 2px rgba(0, 0, 0, 0.3));\n",
       "      fill: #FFFFFF;\n",
       "    }\n",
       "  </style>\n",
       "\n",
       "      <script>\n",
       "        const buttonEl =\n",
       "          document.querySelector('#df-35b095e8-eb01-470d-989a-c0565408b931 button.colab-df-convert');\n",
       "        buttonEl.style.display =\n",
       "          google.colab.kernel.accessAllowed ? 'block' : 'none';\n",
       "\n",
       "        async function convertToInteractive(key) {\n",
       "          const element = document.querySelector('#df-35b095e8-eb01-470d-989a-c0565408b931');\n",
       "          const dataTable =\n",
       "            await google.colab.kernel.invokeFunction('convertToInteractive',\n",
       "                                                     [key], {});\n",
       "          if (!dataTable) return;\n",
       "\n",
       "          const docLinkHtml = 'Like what you see? Visit the ' +\n",
       "            '<a target=\"_blank\" href=https://colab.research.google.com/notebooks/data_table.ipynb>data table notebook</a>'\n",
       "            + ' to learn more about interactive tables.';\n",
       "          element.innerHTML = '';\n",
       "          dataTable['output_type'] = 'display_data';\n",
       "          await google.colab.output.renderOutput(dataTable, element);\n",
       "          const docLink = document.createElement('div');\n",
       "          docLink.innerHTML = docLinkHtml;\n",
       "          element.appendChild(docLink);\n",
       "        }\n",
       "      </script>\n",
       "    </div>\n",
       "  </div>\n",
       "  "
      ]
     },
     "metadata": {},
     "execution_count": 5
    }
   ]
  },
  {
   "cell_type": "markdown",
   "metadata": {
    "id": "E2iDVRYc9fFi"
   },
   "source": [
    "It looks that pandas dataframes are the appropriate data structure for representing data. However, scikit-learn can only use numpy matrices. Therefore, categorical values must be encoded as numbers. The typical workflow when working with scikit-learn is:\n",
    "1. Load data as a Pandas dataframe\n",
    "2. Do EDA (Exploratory Data Analysis) to understand your data\n",
    "3. Encode the Pandas dataframe as a numpy matrix (get rid of categorical values and missing values)\n",
    "4. Do machine learning with scikit-learn"
   ]
  },
  {
   "cell_type": "markdown",
   "metadata": {
    "id": "J9dwWGrb4QXi"
   },
   "source": [
    "# Scikit-learn (sklearn): \n",
    "- Collection of machine learning algorithms and tools in Python.\n",
    "- [http://scikit-learn.org/stable/](SCIKIT-LEARN)\n",
    "\n",
    "** Other packages for Machine Learning in Python: **\n",
    "- Pylearn2\n",
    "- PyBrain\n",
    "- ..."
   ]
  },
  {
   "cell_type": "markdown",
   "metadata": {
    "id": "DL5_Er0v4QXl"
   },
   "source": [
    "\n",
    "\n",
    "\n",
    "\n",
    "# Input data for sklearn (numeric matrices)"
   ]
  },
  {
   "cell_type": "markdown",
   "metadata": {
    "id": "m-3u_OGV4QXm"
   },
   "source": [
    "- Datasets for sklearn are numpy **numeric** matrices:\n",
    "- This implies that categorical attributes/features must be represented as:\t\n",
    "    - Integers\n",
    "    - One-hot-encoding / dummy variables\n",
    "\n",
    "- However, there is a trend for integrating Pandas dataframes with scikit learn\n",
    "- Missing values are represented as np.nan\n"
   ]
  },
  {
   "cell_type": "markdown",
   "metadata": {
    "id": "iMtbmEyl4QXm"
   },
   "source": [
    "- A simple example of dataset is the iris dataset, which is included within sklearn itself.\n",
    "- Otherwise, we would have to load it from a file"
   ]
  },
  {
   "cell_type": "code",
   "metadata": {
    "id": "SwhF9rEr4QXm",
    "executionInfo": {
     "status": "ok",
     "timestamp": 1676218795364,
     "user_tz": -60,
     "elapsed": 1382,
     "user": {
      "displayName": "EMILIO MARTIN GALLARDO",
      "userId": "07497084488985389597"
     }
    }
   },
   "source": [
    "import numpy as np\n",
    "from sklearn.datasets import load_iris\n",
    "iris_meta = load_iris()"
   ],
   "execution_count": 6,
   "outputs": []
  },
  {
   "cell_type": "code",
   "metadata": {
    "id": "i4XLUUY-4QXn",
    "colab": {
     "base_uri": "https://localhost:8080/"
    },
    "outputId": "12ba5851-273e-4418-c431-350dec476ac1",
    "executionInfo": {
     "status": "ok",
     "timestamp": 1676218795364,
     "user_tz": -60,
     "elapsed": 9,
     "user": {
      "displayName": "EMILIO MARTIN GALLARDO",
      "userId": "07497084488985389597"
     }
    }
   },
   "source": [
    "print(iris_meta.feature_names)"
   ],
   "execution_count": 7,
   "outputs": [
    {
     "output_type": "stream",
     "name": "stdout",
     "text": [
      "['sepal length (cm)', 'sepal width (cm)', 'petal length (cm)', 'petal width (cm)']\n"
     ]
    }
   ]
  },
  {
   "cell_type": "code",
   "metadata": {
    "id": "BraxjcIT4QXo",
    "colab": {
     "base_uri": "https://localhost:8080/"
    },
    "outputId": "4750c1ac-a0ed-4323-f94b-28b6b3209474",
    "executionInfo": {
     "status": "ok",
     "timestamp": 1676218795364,
     "user_tz": -60,
     "elapsed": 9,
     "user": {
      "displayName": "EMILIO MARTIN GALLARDO",
      "userId": "07497084488985389597"
     }
    }
   },
   "source": [
    "print(iris_meta.target_names)"
   ],
   "execution_count": 8,
   "outputs": [
    {
     "output_type": "stream",
     "name": "stdout",
     "text": [
      "['setosa' 'versicolor' 'virginica']\n"
     ]
    }
   ]
  },
  {
   "cell_type": "markdown",
   "metadata": {
    "id": "IUWlrFzX4QXp"
   },
   "source": [
    "This is the actual data"
   ]
  },
  {
   "cell_type": "code",
   "metadata": {
    "id": "wETZD6q64QXp",
    "executionInfo": {
     "status": "ok",
     "timestamp": 1676218795364,
     "user_tz": -60,
     "elapsed": 7,
     "user": {
      "displayName": "EMILIO MARTIN GALLARDO",
      "userId": "07497084488985389597"
     }
    }
   },
   "source": [
    "X = iris_meta.data\n",
    "y = iris_meta.target"
   ],
   "execution_count": 9,
   "outputs": []
  },
  {
   "cell_type": "markdown",
   "metadata": {
    "id": "eTfFws3S4QXq"
   },
   "source": [
    "- We can see that X (the input features) is a 2-dimensional numpy array\n",
    "- and y (the response variable) is a numpy vector"
   ]
  },
  {
   "cell_type": "code",
   "metadata": {
    "id": "tTf1ylam4QXq",
    "colab": {
     "base_uri": "https://localhost:8080/"
    },
    "outputId": "fd749e03-68f8-4ae7-b767-814fd7385b34",
    "executionInfo": {
     "status": "ok",
     "timestamp": 1676218795364,
     "user_tz": -60,
     "elapsed": 7,
     "user": {
      "displayName": "EMILIO MARTIN GALLARDO",
      "userId": "07497084488985389597"
     }
    }
   },
   "source": [
    "print(type(X))\n",
    "print(X.shape) # 150 instances and 4 input features\n",
    "print(X.dtype) # Values are real numbers (float)"
   ],
   "execution_count": 10,
   "outputs": [
    {
     "output_type": "stream",
     "name": "stdout",
     "text": [
      "<class 'numpy.ndarray'>\n",
      "(150, 4)\n",
      "float64\n"
     ]
    }
   ]
  },
  {
   "cell_type": "code",
   "metadata": {
    "id": "xQb5GqPa4QXq",
    "colab": {
     "base_uri": "https://localhost:8080/"
    },
    "outputId": "2c7b6c1f-d1e6-4ad0-c0de-a715f9ff4738",
    "executionInfo": {
     "status": "ok",
     "timestamp": 1676218795364,
     "user_tz": -60,
     "elapsed": 5,
     "user": {
      "displayName": "EMILIO MARTIN GALLARDO",
      "userId": "07497084488985389597"
     }
    }
   },
   "source": [
    "print(type(y))\n",
    "print(y.shape) # 150 values of the response variable\n",
    "print(y.dtype) # Values are integers"
   ],
   "execution_count": 11,
   "outputs": [
    {
     "output_type": "stream",
     "name": "stdout",
     "text": [
      "<class 'numpy.ndarray'>\n",
      "(150,)\n",
      "int64\n"
     ]
    }
   ]
  },
  {
   "cell_type": "markdown",
   "metadata": {
    "id": "I1MSNYt04QXr"
   },
   "source": [
    "Let's visualize the first 10 instances"
   ]
  },
  {
   "cell_type": "code",
   "metadata": {
    "id": "-UOb_pJx4QXr",
    "colab": {
     "base_uri": "https://localhost:8080/"
    },
    "outputId": "82dfd849-f226-476c-b358-136e6b275f58",
    "executionInfo": {
     "status": "ok",
     "timestamp": 1676218795364,
     "user_tz": -60,
     "elapsed": 4,
     "user": {
      "displayName": "EMILIO MARTIN GALLARDO",
      "userId": "07497084488985389597"
     }
    }
   },
   "source": [
    "print(X[0:10,0:4])"
   ],
   "execution_count": 12,
   "outputs": [
    {
     "output_type": "stream",
     "name": "stdout",
     "text": [
      "[[5.1 3.5 1.4 0.2]\n",
      " [4.9 3.  1.4 0.2]\n",
      " [4.7 3.2 1.3 0.2]\n",
      " [4.6 3.1 1.5 0.2]\n",
      " [5.  3.6 1.4 0.2]\n",
      " [5.4 3.9 1.7 0.4]\n",
      " [4.6 3.4 1.4 0.3]\n",
      " [5.  3.4 1.5 0.2]\n",
      " [4.4 2.9 1.4 0.2]\n",
      " [4.9 3.1 1.5 0.1]]\n"
     ]
    }
   ]
  },
  {
   "cell_type": "code",
   "metadata": {
    "id": "Oa8xhgG34QXr",
    "colab": {
     "base_uri": "https://localhost:8080/"
    },
    "outputId": "7623386e-09f7-4817-d8a5-a1ebd43d0ea8",
    "executionInfo": {
     "status": "ok",
     "timestamp": 1676218795365,
     "user_tz": -60,
     "elapsed": 5,
     "user": {
      "displayName": "EMILIO MARTIN GALLARDO",
      "userId": "07497084488985389597"
     }
    }
   },
   "source": [
    "print(y[0:10])"
   ],
   "execution_count": 13,
   "outputs": [
    {
     "output_type": "stream",
     "name": "stdout",
     "text": [
      "[0 0 0 0 0 0 0 0 0 0]\n"
     ]
    }
   ]
  },
  {
   "cell_type": "markdown",
   "metadata": {
    "id": "GL8zQzuh4QXr"
   },
   "source": [
    "Below, we visualize the whole table, with the response variable being the last column.\n",
    "It is not necessary to do this when working with sklearn, it is just for visualization purposes."
   ]
  },
  {
   "cell_type": "code",
   "metadata": {
    "id": "LASHXWc74QXs",
    "colab": {
     "base_uri": "https://localhost:8080/"
    },
    "outputId": "5106782b-f2d7-4a25-f2df-03106379e153",
    "executionInfo": {
     "status": "ok",
     "timestamp": 1676218795365,
     "user_tz": -60,
     "elapsed": 4,
     "user": {
      "displayName": "EMILIO MARTIN GALLARDO",
      "userId": "07497084488985389597"
     }
    }
   },
   "source": [
    "np.concatenate((X,y[:,np.newaxis]), axis=1)[0:10]"
   ],
   "execution_count": 14,
   "outputs": [
    {
     "output_type": "execute_result",
     "data": {
      "text/plain": [
       "array([[5.1, 3.5, 1.4, 0.2, 0. ],\n",
       "       [4.9, 3. , 1.4, 0.2, 0. ],\n",
       "       [4.7, 3.2, 1.3, 0.2, 0. ],\n",
       "       [4.6, 3.1, 1.5, 0.2, 0. ],\n",
       "       [5. , 3.6, 1.4, 0.2, 0. ],\n",
       "       [5.4, 3.9, 1.7, 0.4, 0. ],\n",
       "       [4.6, 3.4, 1.4, 0.3, 0. ],\n",
       "       [5. , 3.4, 1.5, 0.2, 0. ],\n",
       "       [4.4, 2.9, 1.4, 0.2, 0. ],\n",
       "       [4.9, 3.1, 1.5, 0.1, 0. ]])"
      ]
     },
     "metadata": {},
     "execution_count": 14
    }
   ]
  },
  {
   "cell_type": "markdown",
   "metadata": {
    "id": "rke_0WUy4QXs"
   },
   "source": [
    "We can plot the iris dataset to see how it looks like."
   ]
  },
  {
   "cell_type": "code",
   "metadata": {
    "id": "SUtaFKIH4QXs",
    "colab": {
     "base_uri": "https://localhost:8080/",
     "height": 282
    },
    "outputId": "e70c920d-9104-4751-ad6c-496444b8cfc0",
    "executionInfo": {
     "status": "ok",
     "timestamp": 1676218795703,
     "user_tz": -60,
     "elapsed": 341,
     "user": {
      "displayName": "EMILIO MARTIN GALLARDO",
      "userId": "07497084488985389597"
     }
    }
   },
   "source": [
    "import matplotlib.pyplot as plt\n",
    "plt.scatter(X[:, 0], X[:, 1], c=y, cmap=plt.cm.Paired)\n",
    "plt.xlabel('Sepal length')\n",
    "plt.ylabel('Sepal width')\n",
    "plt.show()"
   ],
   "execution_count": 15,
   "outputs": [
    {
     "output_type": "display_data",
     "data": {
      "text/plain": [
       "<Figure size 432x288 with 1 Axes>"
      ],
      "image/png": "[encoded data removed]"
     },
     "metadata": {
      "needs_background": "light"
     }
    }
   ]
  },
  {
   "cell_type": "markdown",
   "metadata": {
    "id": "C1HKbQlo4QXs"
   },
   "source": [
    "# Training a decision tree"
   ]
  },
  {
   "cell_type": "code",
   "metadata": {
    "id": "9zidraxu4QXt",
    "colab": {
     "base_uri": "https://localhost:8080/"
    },
    "outputId": "251fce0e-cf37-4b4a-a1a1-1460a3ce5b3e",
    "executionInfo": {
     "status": "ok",
     "timestamp": 1676218796170,
     "user_tz": -60,
     "elapsed": 472,
     "user": {
      "displayName": "EMILIO MARTIN GALLARDO",
      "userId": "07497084488985389597"
     }
    }
   },
   "source": [
    "from sklearn import tree\n",
    "# Here, we define the type of training method (nothing happens yet)\n",
    "clf = tree.DecisionTreeClassifier()\n",
    "# Now, we train (fit) the method on the (X,y) dataset\n",
    "clf.fit(X, y)\n",
    "# clf **has been changed** and now contains the trained model"
   ],
   "execution_count": 16,
   "outputs": [
    {
     "output_type": "execute_result",
     "data": {
      "text/plain": [
       "DecisionTreeClassifier()"
      ]
     },
     "metadata": {},
     "execution_count": 16
    }
   ]
  },
  {
   "cell_type": "markdown",
   "metadata": {
    "id": "QgtYgDGH4QXt"
   },
   "source": [
    "We can visualize the tree as text"
   ]
  },
  {
   "cell_type": "code",
   "metadata": {
    "id": "HXdfMAUC4QXt",
    "colab": {
     "base_uri": "https://localhost:8080/"
    },
    "outputId": "0152b127-05cf-4846-cb76-4dbfa21fe4b1",
    "executionInfo": {
     "status": "ok",
     "timestamp": 1676218796171,
     "user_tz": -60,
     "elapsed": 3,
     "user": {
      "displayName": "EMILIO MARTIN GALLARDO",
      "userId": "07497084488985389597"
     }
    }
   },
   "source": [
    "text_representation = tree.export_text(clf, feature_names=iris_meta.feature_names)\n",
    "print(text_representation)"
   ],
   "execution_count": 17,
   "outputs": [
    {
     "output_type": "stream",
     "name": "stdout",
     "text": [
      "|--- petal length (cm) <= 2.45\n",
      "|   |--- class: 0\n",
      "|--- petal length (cm) >  2.45\n",
      "|   |--- petal width (cm) <= 1.75\n",
      "|   |   |--- petal length (cm) <= 4.95\n",
      "|   |   |   |--- petal width (cm) <= 1.65\n",
      "|   |   |   |   |--- class: 1\n",
      "|   |   |   |--- petal width (cm) >  1.65\n",
      "|   |   |   |   |--- class: 2\n",
      "|   |   |--- petal length (cm) >  4.95\n",
      "|   |   |   |--- petal width (cm) <= 1.55\n",
      "|   |   |   |   |--- class: 2\n",
      "|   |   |   |--- petal width (cm) >  1.55\n",
      "|   |   |   |   |--- sepal length (cm) <= 6.95\n",
      "|   |   |   |   |   |--- class: 1\n",
      "|   |   |   |   |--- sepal length (cm) >  6.95\n",
      "|   |   |   |   |   |--- class: 2\n",
      "|   |--- petal width (cm) >  1.75\n",
      "|   |   |--- petal length (cm) <= 4.85\n",
      "|   |   |   |--- sepal length (cm) <= 5.95\n",
      "|   |   |   |   |--- class: 1\n",
      "|   |   |   |--- sepal length (cm) >  5.95\n",
      "|   |   |   |   |--- class: 2\n",
      "|   |   |--- petal length (cm) >  4.85\n",
      "|   |   |   |--- class: 2\n",
      "\n"
     ]
    }
   ]
  },
  {
   "cell_type": "markdown",
   "metadata": {
    "id": "mvjUKYTd4QXt"
   },
   "source": [
    "We can also visualize the tree graphically"
   ]
  },
  {
   "cell_type": "code",
   "metadata": {
    "id": "LPEoeoGc4QXu",
    "colab": {
     "base_uri": "https://localhost:8080/",
     "height": 1000
    },
    "outputId": "f34d4aba-1b4e-48cc-80f4-78a9ffb42339",
    "executionInfo": {
     "status": "ok",
     "timestamp": 1676218798382,
     "user_tz": -60,
     "elapsed": 2213,
     "user": {
      "displayName": "EMILIO MARTIN GALLARDO",
      "userId": "07497084488985389597"
     }
    }
   },
   "source": [
    "import matplotlib.pyplot as plt\n",
    "fig = plt.figure(figsize=(25,20))\n",
    "_ = tree.plot_tree(clf,\n",
    "                   feature_names = iris_meta.feature_names,\n",
    "                   class_names=iris_meta.target_names,\n",
    "                   filled=True)"
   ],
   "execution_count": 18,
   "outputs": [
    {
     "output_type": "display_data",
     "data": {
      "text/plain": [
       "<Figure size 1800x1440 with 1 Axes>"
      ],
      "image/png": "[encoded data removed]"
     },
     "metadata": {
      "needs_background": "light"
     }
    }
   ]
  },
  {
   "cell_type": "markdown",
   "metadata": {
    "id": "bDexRXHP4QXu"
   },
   "source": [
    "# Training and evaluating a decision tree with a test set (holdout)"
   ]
  },
  {
   "cell_type": "code",
   "metadata": {
    "id": "O7uNOyNv4QXu",
    "executionInfo": {
     "status": "ok",
     "timestamp": 1676218798383,
     "user_tz": -60,
     "elapsed": 22,
     "user": {
      "displayName": "EMILIO MARTIN GALLARDO",
      "userId": "07497084488985389597"
     }
    }
   },
   "source": [
    "from sklearn.model_selection import train_test_split"
   ],
   "execution_count": 19,
   "outputs": []
  },
  {
   "cell_type": "markdown",
   "metadata": {
    "id": "f-4APKeP4QXu"
   },
   "source": [
    "- Now we create the training (X_train, y_train) and testing (X_test, y_test) partitions: 2/3 for training, 1/3 for testing\n",
    "- Notice the **random_state=42** for reproducibility (important!)"
   ]
  },
  {
   "cell_type": "code",
   "metadata": {
    "id": "HSfsVFxH4QXu",
    "executionInfo": {
     "status": "ok",
     "timestamp": 1676218798383,
     "user_tz": -60,
     "elapsed": 22,
     "user": {
      "displayName": "EMILIO MARTIN GALLARDO",
      "userId": "07497084488985389597"
     }
    }
   },
   "source": [
    "X_train, X_test, y_train, y_test = train_test_split(X, y, test_size=0.33, random_state=42)"
   ],
   "execution_count": 20,
   "outputs": []
  },
  {
   "cell_type": "code",
   "metadata": {
    "id": "7OQ_uQ0CelIl",
    "colab": {
     "base_uri": "https://localhost:8080/"
    },
    "outputId": "fbef8958-2315-4d07-f122-71031e64762b",
    "executionInfo": {
     "status": "ok",
     "timestamp": 1676218798383,
     "user_tz": -60,
     "elapsed": 22,
     "user": {
      "displayName": "EMILIO MARTIN GALLARDO",
      "userId": "07497084488985389597"
     }
    }
   },
   "source": [
    "X_train[0:5]"
   ],
   "execution_count": 21,
   "outputs": [
    {
     "output_type": "execute_result",
     "data": {
      "text/plain": [
       "array([[5.7, 2.9, 4.2, 1.3],\n",
       "       [7.6, 3. , 6.6, 2.1],\n",
       "       [5.6, 3. , 4.5, 1.5],\n",
       "       [5.1, 3.5, 1.4, 0.2],\n",
       "       [7.7, 2.8, 6.7, 2. ]])"
      ]
     },
     "metadata": {},
     "execution_count": 21
    }
   ]
  },
  {
   "cell_type": "markdown",
   "metadata": {
    "id": "L1OxaH3-4QXv"
   },
   "source": [
    "Shape of the training and testing partitions"
   ]
  },
  {
   "cell_type": "code",
   "metadata": {
    "id": "sLayO_Ir4QXv",
    "colab": {
     "base_uri": "https://localhost:8080/"
    },
    "outputId": "c90abea9-91a5-495c-f240-68f2e2640259",
    "executionInfo": {
     "status": "ok",
     "timestamp": 1676218798383,
     "user_tz": -60,
     "elapsed": 20,
     "user": {
      "displayName": "EMILIO MARTIN GALLARDO",
      "userId": "07497084488985389597"
     }
    }
   },
   "source": [
    "print(X_train.shape, y_train.shape) # 100 instances for training\n",
    "print(X_test.shape, y_test.shape)   # 50 instances for testing"
   ],
   "execution_count": 22,
   "outputs": [
    {
     "output_type": "stream",
     "name": "stdout",
     "text": [
      "(100, 4) (100,)\n",
      "(50, 4) (50,)\n"
     ]
    }
   ]
  },
  {
   "cell_type": "markdown",
   "metadata": {
    "id": "Fxjyn5es4QXv"
   },
   "source": [
    "Let's print the five first training instances"
   ]
  },
  {
   "cell_type": "code",
   "metadata": {
    "id": "jS3dEvOK4QXv",
    "colab": {
     "base_uri": "https://localhost:8080/"
    },
    "outputId": "b49e7c36-3810-4db7-fe69-e904daea2784",
    "executionInfo": {
     "status": "ok",
     "timestamp": 1676218798383,
     "user_tz": -60,
     "elapsed": 19,
     "user": {
      "displayName": "EMILIO MARTIN GALLARDO",
      "userId": "07497084488985389597"
     }
    }
   },
   "source": [
    "print(\"INPUT FEATURES:\")\n",
    "print(X_train[:5,:])\n",
    "print(\"RESPONSE:\")\n",
    "print(y_train[:5])"
   ],
   "execution_count": 23,
   "outputs": [
    {
     "output_type": "stream",
     "name": "stdout",
     "text": [
      "INPUT FEATURES:\n",
      "[[5.7 2.9 4.2 1.3]\n",
      " [7.6 3.  6.6 2.1]\n",
      " [5.6 3.  4.5 1.5]\n",
      " [5.1 3.5 1.4 0.2]\n",
      " [7.7 2.8 6.7 2. ]]\n",
      "RESPONSE:\n",
      "[1 2 1 0 2]\n"
     ]
    }
   ]
  },
  {
   "cell_type": "markdown",
   "metadata": {
    "id": "M-hCi0G-4QXv"
   },
   "source": [
    "If we create the partition again, it will be the same as before if we use the same random state"
   ]
  },
  {
   "cell_type": "code",
   "metadata": {
    "id": "EMUbPInn4QXv",
    "colab": {
     "base_uri": "https://localhost:8080/"
    },
    "outputId": "98ac53ac-e281-49cb-91b7-6512577eda88",
    "executionInfo": {
     "status": "ok",
     "timestamp": 1676218798383,
     "user_tz": -60,
     "elapsed": 18,
     "user": {
      "displayName": "EMILIO MARTIN GALLARDO",
      "userId": "07497084488985389597"
     }
    }
   },
   "source": [
    "X_train, X_test, y_train, y_test = train_test_split(X, y, test_size=0.33, random_state=42)\n",
    "print(\"INPUT FEATURES:\")\n",
    "print(X_train[:5,:])"
   ],
   "execution_count": 24,
   "outputs": [
    {
     "output_type": "stream",
     "name": "stdout",
     "text": [
      "INPUT FEATURES:\n",
      "[[5.7 2.9 4.2 1.3]\n",
      " [7.6 3.  6.6 2.1]\n",
      " [5.6 3.  4.5 1.5]\n",
      " [5.1 3.5 1.4 0.2]\n",
      " [7.7 2.8 6.7 2. ]]\n"
     ]
    }
   ]
  },
  {
   "cell_type": "markdown",
   "metadata": {
    "id": "PJwTUDiv4QXv"
   },
   "source": [
    "But it will be different if we change the random seed"
   ]
  },
  {
   "cell_type": "code",
   "metadata": {
    "id": "C9iUH1c14QXw",
    "colab": {
     "base_uri": "https://localhost:8080/"
    },
    "outputId": "517adb4b-abb9-40af-8ae6-1eff555bdb50",
    "executionInfo": {
     "status": "ok",
     "timestamp": 1676218798383,
     "user_tz": -60,
     "elapsed": 17,
     "user": {
      "displayName": "EMILIO MARTIN GALLARDO",
      "userId": "07497084488985389597"
     }
    }
   },
   "source": [
    "X_train, X_test, y_train, y_test = train_test_split(X, y, test_size=0.33, random_state=24)\n",
    "print(\"INPUT FEATURES:\")\n",
    "print(X_train[:5,:])"
   ],
   "execution_count": 25,
   "outputs": [
    {
     "output_type": "stream",
     "name": "stdout",
     "text": [
      "INPUT FEATURES:\n",
      "[[4.7 3.2 1.3 0.2]\n",
      " [4.3 3.  1.1 0.1]\n",
      " [5.4 3.9 1.3 0.4]\n",
      " [5.5 2.6 4.4 1.2]\n",
      " [6.1 2.6 5.6 1.4]]\n"
     ]
    }
   ]
  },
  {
   "cell_type": "code",
   "metadata": {
    "id": "GwiXO5WR4QXw",
    "executionInfo": {
     "status": "ok",
     "timestamp": 1676218798383,
     "user_tz": -60,
     "elapsed": 17,
     "user": {
      "displayName": "EMILIO MARTIN GALLARDO",
      "userId": "07497084488985389597"
     }
    }
   },
   "source": [
    "# Let's keep the original partition (with random state=42)\n",
    "X_train, X_test, y_train, y_test = train_test_split(X, y, test_size=0.33, random_state=42)"
   ],
   "execution_count": 26,
   "outputs": []
  },
  {
   "cell_type": "markdown",
   "metadata": {
    "id": "2W36mNPh4QXw"
   },
   "source": [
    "- Now, we train the tree with .fit\n",
    "- Notice that we use np.random.seed(42) so that the training of the tree is also reproducible (in case that tree training is not deterministic)"
   ]
  },
  {
   "cell_type": "code",
   "metadata": {
    "id": "pGUABN5a4QXw",
    "colab": {
     "base_uri": "https://localhost:8080/"
    },
    "outputId": "a79d8d38-4850-4607-899a-338466fdf2a5",
    "executionInfo": {
     "status": "ok",
     "timestamp": 1676218798383,
     "user_tz": -60,
     "elapsed": 17,
     "user": {
      "displayName": "EMILIO MARTIN GALLARDO",
      "userId": "07497084488985389597"
     }
    }
   },
   "source": [
    "from sklearn import metrics\n",
    "from sklearn import tree\n",
    "\n",
    "# Here, we set our model to classification tree\n",
    "clf = tree.DecisionTreeClassifier()\n",
    "# Making results reproducible, in case training a tree contains random decisions\n",
    "np.random.seed(42)\n",
    "# Now, we train it\n",
    "clf.fit(X_train, y_train)\n",
    "# We can see that the tree is inside\n",
    "print(tree.export_text(clf))"
   ],
   "execution_count": 27,
   "outputs": [
    {
     "output_type": "stream",
     "name": "stdout",
     "text": [
      "|--- feature_2 <= 2.45\n",
      "|   |--- class: 0\n",
      "|--- feature_2 >  2.45\n",
      "|   |--- feature_3 <= 1.75\n",
      "|   |   |--- feature_2 <= 5.35\n",
      "|   |   |   |--- feature_0 <= 4.95\n",
      "|   |   |   |   |--- feature_1 <= 2.45\n",
      "|   |   |   |   |   |--- class: 1\n",
      "|   |   |   |   |--- feature_1 >  2.45\n",
      "|   |   |   |   |   |--- class: 2\n",
      "|   |   |   |--- feature_0 >  4.95\n",
      "|   |   |   |   |--- feature_2 <= 4.95\n",
      "|   |   |   |   |   |--- class: 1\n",
      "|   |   |   |   |--- feature_2 >  4.95\n",
      "|   |   |   |   |   |--- feature_1 <= 2.45\n",
      "|   |   |   |   |   |   |--- class: 2\n",
      "|   |   |   |   |   |--- feature_1 >  2.45\n",
      "|   |   |   |   |   |   |--- class: 1\n",
      "|   |   |--- feature_2 >  5.35\n",
      "|   |   |   |--- class: 2\n",
      "|   |--- feature_3 >  1.75\n",
      "|   |   |--- feature_2 <= 4.85\n",
      "|   |   |   |--- feature_1 <= 3.10\n",
      "|   |   |   |   |--- class: 2\n",
      "|   |   |   |--- feature_1 >  3.10\n",
      "|   |   |   |   |--- class: 1\n",
      "|   |   |--- feature_2 >  4.85\n",
      "|   |   |   |--- class: 2\n",
      "\n"
     ]
    }
   ]
  },
  {
   "cell_type": "markdown",
   "metadata": {
    "id": "tsF1kKuQ4QXw"
   },
   "source": [
    "By the way, we can get help of any function (like .fit)"
   ]
  },
  {
   "cell_type": "code",
   "metadata": {
    "id": "my616HwN4QXw",
    "executionInfo": {
     "status": "ok",
     "timestamp": 1676218798383,
     "user_tz": -60,
     "elapsed": 16,
     "user": {
      "displayName": "EMILIO MARTIN GALLARDO",
      "userId": "07497084488985389597"
     }
    }
   },
   "source": [
    "?clf.fit"
   ],
   "execution_count": 28,
   "outputs": []
  },
  {
   "cell_type": "markdown",
   "metadata": {
    "id": "2jqPY0dT4QXw"
   },
   "source": [
    "Now, we evaluate the tree, by computing predictions on the test set"
   ]
  },
  {
   "cell_type": "code",
   "metadata": {
    "id": "eCGTo5oO4QXx",
    "executionInfo": {
     "status": "ok",
     "timestamp": 1676218798395,
     "user_tz": -60,
     "elapsed": 28,
     "user": {
      "displayName": "EMILIO MARTIN GALLARDO",
      "userId": "07497084488985389597"
     }
    }
   },
   "source": [
    "y_test_pred = clf.predict(X_test)"
   ],
   "execution_count": 29,
   "outputs": []
  },
  {
   "cell_type": "markdown",
   "metadata": {
    "id": "bfu7AeHg4QXx"
   },
   "source": [
    "We can check the predictions for the testing instances"
   ]
  },
  {
   "cell_type": "code",
   "metadata": {
    "id": "VEzdzi7_4QXx",
    "colab": {
     "base_uri": "https://localhost:8080/"
    },
    "outputId": "e3d0cd10-1f1e-4e0b-94f3-4fda585cb274",
    "executionInfo": {
     "status": "ok",
     "timestamp": 1676218798395,
     "user_tz": -60,
     "elapsed": 28,
     "user": {
      "displayName": "EMILIO MARTIN GALLARDO",
      "userId": "07497084488985389597"
     }
    }
   },
   "source": [
    "print(y_test_pred)"
   ],
   "execution_count": 30,
   "outputs": [
    {
     "output_type": "stream",
     "name": "stdout",
     "text": [
      "[1 0 2 1 1 0 1 2 1 1 2 0 0 0 0 1 2 1 1 2 0 2 0 2 2 2 2 2 0 0 0 0 1 0 0 2 1\n",
      " 0 0 0 2 1 1 0 0 1 1 2 1 2]\n"
     ]
    }
   ]
  },
  {
   "cell_type": "markdown",
   "metadata": {
    "id": "1qgkCQxm4QXx"
   },
   "source": [
    "For the sake of visualization, we can compare predictions and actual values (ground truth of the response variable). We can see that for the first 5 instances, it is always correct."
   ]
  },
  {
   "cell_type": "code",
   "metadata": {
    "id": "-K2BLDm24QXx",
    "colab": {
     "base_uri": "https://localhost:8080/"
    },
    "outputId": "4e2228ec-716c-42f0-a4fb-6de4b15128e7",
    "executionInfo": {
     "status": "ok",
     "timestamp": 1676218798395,
     "user_tz": -60,
     "elapsed": 27,
     "user": {
      "displayName": "EMILIO MARTIN GALLARDO",
      "userId": "07497084488985389597"
     }
    }
   },
   "source": [
    "print(np.hstack((y_test_pred[:5,np.newaxis], y_test[:5,np.newaxis])))"
   ],
   "execution_count": 31,
   "outputs": [
    {
     "output_type": "stream",
     "name": "stdout",
     "text": [
      "[[1 1]\n",
      " [0 0]\n",
      " [2 2]\n",
      " [1 1]\n",
      " [1 1]]\n"
     ]
    }
   ]
  },
  {
   "cell_type": "markdown",
   "metadata": {
    "id": "NCpZW27s4QXx"
   },
   "source": [
    "- But, in order to evaluate the model on the test partition, we can compute a metric (classification accuracy in this case)\n",
    "- It is very high (98%)"
   ]
  },
  {
   "cell_type": "code",
   "metadata": {
    "id": "uspUaRJe4QXx",
    "colab": {
     "base_uri": "https://localhost:8080/"
    },
    "outputId": "251aee81-46d2-4736-a7c3-941ab059bee2",
    "executionInfo": {
     "status": "ok",
     "timestamp": 1676218798395,
     "user_tz": -60,
     "elapsed": 26,
     "user": {
      "displayName": "EMILIO MARTIN GALLARDO",
      "userId": "07497084488985389597"
     }
    }
   },
   "source": [
    "from sklearn import metrics\n",
    "accuracy_tree = metrics.accuracy_score(y_test, y_test_pred)\n",
    "print(accuracy_tree)"
   ],
   "execution_count": 32,
   "outputs": [
    {
     "output_type": "stream",
     "name": "stdout",
     "text": [
      "0.98\n"
     ]
    }
   ]
  },
  {
   "cell_type": "markdown",
   "metadata": {
    "id": "CjgSbJvq4QXx"
   },
   "source": [
    "However, the 0.98 accuracy is the model evaluation (estimation of performance). We still need to compute the final model (the one that will be sent and used by the company) **using all available data**."
   ]
  },
  {
   "cell_type": "code",
   "metadata": {
    "id": "VN0n0ZU94QXy",
    "colab": {
     "base_uri": "https://localhost:8080/"
    },
    "outputId": "cf63a510-c02b-4e19-fc95-5ef75207a48f",
    "executionInfo": {
     "status": "ok",
     "timestamp": 1676218798395,
     "user_tz": -60,
     "elapsed": 25,
     "user": {
      "displayName": "EMILIO MARTIN GALLARDO",
      "userId": "07497084488985389597"
     }
    }
   },
   "source": [
    "final_clf = tree.DecisionTreeClassifier()\n",
    "# Making results reproducible, in case training a tree contains random decisions\n",
    "np.random.seed(42)\n",
    "# Now, we train it\n",
    "final_clf.fit(X, y)\n",
    "# final_clf contains the model that would be used by the company\n",
    "# Its estimated accuracy is what we computed before (95%)"
   ],
   "execution_count": 33,
   "outputs": [
    {
     "output_type": "execute_result",
     "data": {
      "text/plain": [
       "DecisionTreeClassifier()"
      ]
     },
     "metadata": {},
     "execution_count": 33
    }
   ]
  },
  {
   "cell_type": "markdown",
   "metadata": {
    "id": "8Bzm7znT4QXy"
   },
   "source": [
    "By the way, we can store (and load) this model on a file. This is called \"model persistence\""
   ]
  },
  {
   "cell_type": "code",
   "metadata": {
    "id": "V_ukcKMF4QXy",
    "executionInfo": {
     "status": "ok",
     "timestamp": 1676218798396,
     "user_tz": -60,
     "elapsed": 24,
     "user": {
      "displayName": "EMILIO MARTIN GALLARDO",
      "userId": "07497084488985389597"
     }
    }
   },
   "source": [
    "from joblib import dump, load\n",
    "# Save the final model to a file\n",
    "dump(final_clf, 'final_tree.joblib') \n",
    "# Load the tree from the file\n",
    "final_clf_reloaded = load('final_tree.joblib') "
   ],
   "execution_count": 34,
   "outputs": []
  },
  {
   "cell_type": "markdown",
   "metadata": {
    "id": "ObJu3av94QXy"
   },
   "source": [
    "Below, you have the complete code"
   ]
  },
  {
   "cell_type": "code",
   "metadata": {
    "id": "Fv2Zgzb94QXy",
    "colab": {
     "base_uri": "https://localhost:8080/"
    },
    "outputId": "9f4a4894-d02e-4f3a-8778-488426edd9ac",
    "executionInfo": {
     "status": "ok",
     "timestamp": 1676218798396,
     "user_tz": -60,
     "elapsed": 24,
     "user": {
      "displayName": "EMILIO MARTIN GALLARDO",
      "userId": "07497084488985389597"
     }
    }
   },
   "source": [
    "from sklearn.model_selection import train_test_split\n",
    "from sklearn import metrics\n",
    "from sklearn import tree\n",
    "\n",
    "# Train/test split\n",
    "X_train, X_test, y_train, y_test = train_test_split(X, y, test_size=0.33, random_state=42)\n",
    "\n",
    "# Here, we set our model to classification tree\n",
    "clf = tree.DecisionTreeClassifier()\n",
    "np.random.seed(42) # reproducibility\n",
    "# We train it\n",
    "clf.fit(X_train, y_train)\n",
    "# We obtain predictions on the test set\n",
    "y_test_pred = clf.predict(X_test)\n",
    "# We compute accuracy\n",
    "accuracy_tree = metrics.accuracy_score(y_test, y_test_pred)\n",
    "print(f\"Accuracy of the tree: {accuracy_tree} \")\n",
    "\n",
    "# We finally compute the final model with all available data\n",
    "\n",
    "final_clf = tree.DecisionTreeClassifier()\n",
    "np.random.seed(42)  # reproducibility\n",
    "final_clf.fit(X, y)"
   ],
   "execution_count": 35,
   "outputs": [
    {
     "output_type": "stream",
     "name": "stdout",
     "text": [
      "Accuracy of the tree: 0.98 \n"
     ]
    },
    {
     "output_type": "execute_result",
     "data": {
      "text/plain": [
       "DecisionTreeClassifier()"
      ]
     },
     "metadata": {},
     "execution_count": 35
    }
   ]
  },
  {
   "cell_type": "markdown",
   "metadata": {
    "id": "f7lsOqmTBnzt"
   },
   "source": [
    "# Exercise: do the fit, predict, model evaluation, and final_model construction  with KNN.\n",
    "\n",
    "- This one can be used for classification:\n",
    "\n",
    "from sklearn.neighbors import KNeighborsClassifier\n",
    "\n",
    "- This one can be used for regression:\n",
    "\n",
    "from sklearn.neighbors import KNeighborsRegressor\n",
    "\n"
   ]
  },
  {
   "cell_type": "code",
   "metadata": {
    "id": "VSb9cSjfNafr",
    "colab": {
     "base_uri": "https://localhost:8080/"
    },
    "outputId": "61714b42-533c-4f62-af08-ba95c7bbad5b",
    "executionInfo": {
     "status": "ok",
     "timestamp": 1676218798396,
     "user_tz": -60,
     "elapsed": 22,
     "user": {
      "displayName": "EMILIO MARTIN GALLARDO",
      "userId": "07497084488985389597"
     }
    }
   },
   "source": [
    "from sklearn.model_selection import train_test_split\n",
    "from sklearn import metrics\n",
    "from sklearn.neighbors import KNeighborsClassifier\n",
    "\n",
    "# Train/test split\n",
    "X_train, X_test, y_train, y_test = train_test_split(X, y, test_size=0.33, random_state=42)\n",
    "\n",
    "# Here, we set our model to classification tree\n",
    "clf = KNeighborsClassifier()\n",
    "np.random.seed(42) # reproducibility\n",
    "# We train it\n",
    "clf.fit(X_train, y_train)\n",
    "# We obtain predictions on the test set\n",
    "y_test_pred = clf.predict(X_test)\n",
    "# We compute accuracy\n",
    "accuracy_knn = metrics.accuracy_score(y_test, y_test_pred)\n",
    "print(f\"Accuracy of KNN: {accuracy_knn} \")\n",
    "\n",
    "# We finally compute the final model with all available data\n",
    "\n",
    "final_clf = KNeighborsClassifier()\n",
    "np.random.seed(42)  # reproducibility\n",
    "final_clf.fit(X, y)"
   ],
   "execution_count": 36,
   "outputs": [
    {
     "output_type": "stream",
     "name": "stdout",
     "text": [
      "Accuracy of KNN: 0.98 \n"
     ]
    },
    {
     "output_type": "execute_result",
     "data": {
      "text/plain": [
       "KNeighborsClassifier()"
      ]
     },
     "metadata": {},
     "execution_count": 36
    }
   ]
  },
  {
   "cell_type": "markdown",
   "metadata": {
    "id": "hX9_a4E94QXy"
   },
   "source": [
    "# Training and evaluating a decision tree with crossvalidation"
   ]
  },
  {
   "cell_type": "markdown",
   "metadata": {
    "id": "HiMzev7a4QX0"
   },
   "source": [
    "- First, we are going to do crossvalidation with a loop, so that we understand the process better\n",
    "- However (!!), it is better to do crossvalidation with the cross_val_score function, as we will do later"
   ]
  },
  {
   "cell_type": "markdown",
   "metadata": {
    "id": "r121gQdC4QX0"
   },
   "source": [
    "- KFold creates the training/test crossvalidation folds.\n",
    "    - shuffle randomly shuffles the data before splitting the folds. We should always do this, unless we have good reasons otherwise\n",
    "    - random_state makes the shuffling reproducible"
   ]
  },
  {
   "cell_type": "code",
   "metadata": {
    "id": "ECsSw2by4QX0",
    "executionInfo": {
     "status": "ok",
     "timestamp": 1676218798396,
     "user_tz": -60,
     "elapsed": 22,
     "user": {
      "displayName": "EMILIO MARTIN GALLARDO",
      "userId": "07497084488985389597"
     }
    }
   },
   "source": [
    "from sklearn.model_selection import KFold\n",
    "cv = KFold(n_splits=5, shuffle=True, random_state=42)"
   ],
   "execution_count": 37,
   "outputs": []
  },
  {
   "cell_type": "markdown",
   "metadata": {
    "id": "9bOHa6wQ4QX0"
   },
   "source": [
    "- Now, we carry out crossvalidation by going through all 5 folds.\n",
    "- In every iteration:\n",
    "    - We train a model on the training folds\n",
    "    - We compute predictions on the testing folds\n",
    "    - We compute the metric (accuracy) and store it\n",
    "- When the crossvalidation loop ends, we compute the average (and std)    "
   ]
  },
  {
   "cell_type": "code",
   "metadata": {
    "id": "wI_3sDaF4QX0",
    "colab": {
     "base_uri": "https://localhost:8080/"
    },
    "outputId": "5c00f346-5ef0-4f9b-ad16-49beb2ed5e26",
    "executionInfo": {
     "status": "ok",
     "timestamp": 1676218798396,
     "user_tz": -60,
     "elapsed": 21,
     "user": {
      "displayName": "EMILIO MARTIN GALLARDO",
      "userId": "07497084488985389597"
     }
    }
   },
   "source": [
    "np.random.seed(42) # reproducibility\n",
    "\n",
    "# This variable will contain the 5 crossvalidation accuracies, one per iteration\n",
    "scores = []\n",
    "\n",
    "for train_index, test_index in cv.split(X):\n",
    "    print(f\"TRAIN: {train_index[:5]} ...\", f\"TEST: {test_index[:5]} ...\")\n",
    "    # Getting the actual training and testing partitions out of the indices\n",
    "    X_train, X_test = X[train_index,:], X[test_index,:]\n",
    "    y_train, y_test = y[train_index], y[test_index]\n",
    "  \n",
    "    # Training the model for this particular crossvalidation iteration\n",
    "    clf = tree.DecisionTreeClassifier()\n",
    "    clf.fit(X_train, y_train)\n",
    "    y_test_pred = clf.predict(X_test)\n",
    "    accuracy_tree = metrics.accuracy_score(y_test, y_test_pred)  \n",
    "    \n",
    "    print(f\"The accuracy for this crossval iteration is: {accuracy_tree}\")\n",
    "    print()\n",
    "    # We add this accuracy to the list\n",
    "    scores.append(accuracy_tree)\n",
    "    \n",
    "# Transforming scores from list to numpy array (this is just a technicallity)    \n",
    "scores = np.array(scores)  \n",
    "print(f\"All the accuracies are: {scores}\")\n",
    "print(f\"And the average crossvalidation accuracy is: {scores.mean():.2f} +- {scores.std():.2f}\")"
   ],
   "execution_count": 38,
   "outputs": [
    {
     "output_type": "stream",
     "name": "stdout",
     "text": [
      "TRAIN: [0 1 2 3 4] ... TEST: [ 9 12 18 19 26] ...\n",
      "The accuracy for this crossval iteration is: 1.0\n",
      "\n",
      "TRAIN: [1 2 3 5 6] ... TEST: [ 0  4 10 11 15] ...\n",
      "The accuracy for this crossval iteration is: 0.9666666666666667\n",
      "\n",
      "TRAIN: [0 1 2 3 4] ... TEST: [ 5  7 23 24 25] ...\n",
      "The accuracy for this crossval iteration is: 0.9333333333333333\n",
      "\n",
      "TRAIN: [0 1 4 5 7] ... TEST: [ 2  3  6  8 13] ...\n",
      "The accuracy for this crossval iteration is: 0.9333333333333333\n",
      "\n",
      "TRAIN: [0 2 3 4 5] ... TEST: [ 1 14 20 21 37] ...\n",
      "The accuracy for this crossval iteration is: 0.9333333333333333\n",
      "\n",
      "All the accuracies are: [1.         0.96666667 0.93333333 0.93333333 0.93333333]\n",
      "And the average crossvalidation accuracy is: 0.95 +- 0.03\n"
     ]
    }
   ]
  },
  {
   "cell_type": "markdown",
   "metadata": {
    "id": "v7dfsh8t4QX0"
   },
   "source": [
    "- However, before we programmed the loop explicitely, in order to understand what crossvalidation does.\n",
    "- But crossvalidation is typically done by means of the cross_val_score function, as below"
   ]
  },
  {
   "cell_type": "code",
   "metadata": {
    "id": "ejuZVow54QX1",
    "colab": {
     "base_uri": "https://localhost:8080/"
    },
    "outputId": "605e29f6-6eae-4838-b4af-e8d3f0d8726d",
    "executionInfo": {
     "status": "ok",
     "timestamp": 1676218798396,
     "user_tz": -60,
     "elapsed": 21,
     "user": {
      "displayName": "EMILIO MARTIN GALLARDO",
      "userId": "07497084488985389597"
     }
    }
   },
   "source": [
    "from sklearn.model_selection import cross_val_score, KFold\n",
    "\n",
    "# create a k-fold crossvalidation iterator of k=5 folds\n",
    "# shuffle = True randomly rearranges the dataframe\n",
    "# random_state = 42 is for making the folds reproducible\n",
    "cv = KFold(n_splits=5, shuffle=True, random_state=42)\n",
    "clf = tree.DecisionTreeClassifier()\n",
    "\n",
    "# Making model training reproducible\n",
    "np.random.seed(42)\n",
    "\n",
    "scores = cross_val_score(clf, X, y, scoring='accuracy', cv = cv) \n",
    "\n",
    "print(f\"All the accuracies are: {scores}\")\n",
    "print(f\"And the average crossvalidation accuracy is: {scores.mean():.2f} +- {scores.std():.2f}\")"
   ],
   "execution_count": 39,
   "outputs": [
    {
     "output_type": "stream",
     "name": "stdout",
     "text": [
      "All the accuracies are: [1.         0.96666667 0.93333333 0.93333333 0.93333333]\n",
      "And the average crossvalidation accuracy is: 0.95 +- 0.03\n"
     ]
    }
   ]
  },
  {
   "cell_type": "markdown",
   "metadata": {
    "id": "INNQMn8n4QX1"
   },
   "source": [
    "- 0.95 is the model evaluation (estimation of performance).\n",
    "- But the final model has to be trained with all available data."
   ]
  },
  {
   "cell_type": "code",
   "metadata": {
    "id": "yNXty5034QX1",
    "colab": {
     "base_uri": "https://localhost:8080/"
    },
    "outputId": "97c68dc2-1c23-4db6-eea2-168d541fbb49",
    "executionInfo": {
     "status": "ok",
     "timestamp": 1676218798396,
     "user_tz": -60,
     "elapsed": 20,
     "user": {
      "displayName": "EMILIO MARTIN GALLARDO",
      "userId": "07497084488985389597"
     }
    }
   },
   "source": [
    "final_clf = tree.DecisionTreeClassifier()\n",
    "# Making results reproducible, in case training a tree contains random decisions\n",
    "np.random.seed(42)\n",
    "# Now, we train it\n",
    "final_clf.fit(X, y)\n",
    "# final_clf contains the model that would be used by the company\n",
    "# Its estimated accuracy is what we computed before"
   ],
   "execution_count": 40,
   "outputs": [
    {
     "output_type": "execute_result",
     "data": {
      "text/plain": [
       "DecisionTreeClassifier()"
      ]
     },
     "metadata": {},
     "execution_count": 40
    }
   ]
  },
  {
   "cell_type": "markdown",
   "metadata": {
    "id": "prQCnIMt4QX1"
   },
   "source": [
    "Below, you have the complete code for crossvalidation evaluation (and also obtaining the final model at the end)"
   ]
  },
  {
   "cell_type": "code",
   "metadata": {
    "id": "ZT8P6pJz4QX1",
    "colab": {
     "base_uri": "https://localhost:8080/"
    },
    "outputId": "42e359bc-bb46-4c75-baca-9c0e747c0793",
    "executionInfo": {
     "status": "ok",
     "timestamp": 1676218798396,
     "user_tz": -60,
     "elapsed": 19,
     "user": {
      "displayName": "EMILIO MARTIN GALLARDO",
      "userId": "07497084488985389597"
     }
    }
   },
   "source": [
    "from sklearn import metrics\n",
    "from sklearn import tree\n",
    "from sklearn.model_selection import KFold, cross_val_score\n",
    "\n",
    "# create a k-fold crossvalidation iterator of k=5 folds\n",
    "# shuffle = True randomly rearranges the dataframe\n",
    "# random_state = 42 is for making the folds reproducible\n",
    "cv = KFold(n_splits=5, shuffle=True, random_state=42)\n",
    "clf = tree.DecisionTreeClassifier()\n",
    "\n",
    "# Making model training reproducible\n",
    "np.random.seed(42)\n",
    "\n",
    "scores = cross_val_score(clf, X, y, scoring='accuracy', cv = cv) \n",
    "\n",
    "# print(f\"All the accuracies are: {scores}\")\n",
    "print(f\"The average crossvalidation accuracy is: {scores.mean():.2f} +- {scores.std():.2f}\")\n",
    "\n",
    "final_clf = tree.DecisionTreeClassifier()\n",
    "# Making results reproducible, in case training a tree contains random decisions\n",
    "np.random.seed(42)\n",
    "# Now, we train it\n",
    "final_clf.fit(X, y)\n",
    "# final_clf contains the model that would be used by the company"
   ],
   "execution_count": 41,
   "outputs": [
    {
     "output_type": "stream",
     "name": "stdout",
     "text": [
      "The average crossvalidation accuracy is: 0.95 +- 0.03\n"
     ]
    },
    {
     "output_type": "execute_result",
     "data": {
      "text/plain": [
       "DecisionTreeClassifier()"
      ]
     },
     "metadata": {},
     "execution_count": 41
    }
   ]
  },
  {
   "cell_type": "markdown",
   "metadata": {
    "id": "q7FP2q4V4QX1"
   },
   "source": [
    "# Changing hyperparameters of a decision tree"
   ]
  },
  {
   "cell_type": "markdown",
   "metadata": {
    "id": "ewZT0QkW4QX1"
   },
   "source": [
    "https://scikit-learn.org/stable/modules/generated/sklearn.tree.DecisionTreeClassifier.html  "
   ]
  },
  {
   "cell_type": "code",
   "metadata": {
    "id": "7Q_jHJgb4QX1",
    "executionInfo": {
     "status": "ok",
     "timestamp": 1676218798396,
     "user_tz": -60,
     "elapsed": 18,
     "user": {
      "displayName": "EMILIO MARTIN GALLARDO",
      "userId": "07497084488985389597"
     }
    }
   },
   "source": [
    "from sklearn.model_selection import train_test_split\n",
    "from sklearn import metrics\n",
    "from sklearn import tree\n",
    "\n",
    "X_train, X_test, y_train, y_test = train_test_split(X, y, test_size=0.33, random_state=42)"
   ],
   "execution_count": 42,
   "outputs": []
  },
  {
   "cell_type": "markdown",
   "metadata": {
    "id": "C0eoV0e54QX2"
   },
   "source": [
    "Let's see the effect of changing from gini to entropy. We use holdout here. It seems that results are exactly the same."
   ]
  },
  {
   "cell_type": "code",
   "metadata": {
    "id": "eN-4gAJg4QX2",
    "colab": {
     "base_uri": "https://localhost:8080/"
    },
    "outputId": "0aa01700-6cf5-4eef-e24d-efe68b527f8f",
    "executionInfo": {
     "status": "ok",
     "timestamp": 1676218798396,
     "user_tz": -60,
     "elapsed": 18,
     "user": {
      "displayName": "EMILIO MARTIN GALLARDO",
      "userId": "07497084488985389597"
     }
    }
   },
   "source": [
    "# This loop checks what happens with the two criterions\n",
    "for criterion in [\"gini\", \"entropy\"]:\n",
    "    clf = tree.DecisionTreeClassifier(criterion=criterion)\n",
    "    np.random.seed(42)\n",
    "    clf.fit(X_train,y_train)\n",
    "    y_test_pred = clf.predict(X_test)\n",
    "    accuracy_tree = metrics.accuracy_score(y_test, y_test_pred)\n",
    "    print(f\"With {criterion}: {accuracy_tree:.2f}\")"
   ],
   "execution_count": 43,
   "outputs": [
    {
     "output_type": "stream",
     "name": "stdout",
     "text": [
      "With gini: 0.98\n",
      "With entropy: 0.98\n"
     ]
    }
   ]
  },
  {
   "cell_type": "markdown",
   "metadata": {
    "id": "KgKDmuV84QX2"
   },
   "source": [
    "Let's see the effects of maximum_depth. \"None\" represents the maximum possible depth. "
   ]
  },
  {
   "cell_type": "code",
   "metadata": {
    "id": "UHjavMZk4QX2",
    "colab": {
     "base_uri": "https://localhost:8080/"
    },
    "outputId": "df15f759-6f44-4e70-e8d7-5519fd73eb7d",
    "executionInfo": {
     "status": "ok",
     "timestamp": 1676218798396,
     "user_tz": -60,
     "elapsed": 17,
     "user": {
      "displayName": "EMILIO MARTIN GALLARDO",
      "userId": "07497084488985389597"
     }
    }
   },
   "source": [
    "for max_depth in [1,2,3,None]:\n",
    "    clf = tree.DecisionTreeClassifier(max_depth=max_depth)\n",
    "    np.random.seed(42)\n",
    "    clf.fit(X_train,y_train)\n",
    "    y_test_pred = clf.predict(X_test)\n",
    "    accuracy_tree = metrics.accuracy_score(y_test, y_test_pred)\n",
    "    print(f\"With max_depth {max_depth}: {accuracy_tree:.2f}\")"
   ],
   "execution_count": 44,
   "outputs": [
    {
     "output_type": "stream",
     "name": "stdout",
     "text": [
      "With max_depth 1: 0.68\n",
      "With max_depth 2: 0.98\n",
      "With max_depth 3: 0.98\n",
      "With max_depth None: 0.98\n"
     ]
    }
   ]
  },
  {
   "cell_type": "markdown",
   "metadata": {
    "id": "qZ1FfR1l4QX2"
   },
   "source": [
    "It seems that max_depth=2 is enough. Let's visualize a tree with max depth = 2"
   ]
  },
  {
   "cell_type": "code",
   "metadata": {
    "id": "2ipRiYjF4QX2",
    "colab": {
     "base_uri": "https://localhost:8080/",
     "height": 248
    },
    "outputId": "d832b6c3-327c-4020-cb41-ca8d9f562c47",
    "executionInfo": {
     "status": "ok",
     "timestamp": 1676218798783,
     "user_tz": -60,
     "elapsed": 404,
     "user": {
      "displayName": "EMILIO MARTIN GALLARDO",
      "userId": "07497084488985389597"
     }
    }
   },
   "source": [
    "import matplotlib.pyplot as plt\n",
    "fig = plt.figure(figsize=(5,4))\n",
    "\n",
    "clf = tree.DecisionTreeClassifier(max_depth=2)\n",
    "np.random.seed(42)\n",
    "clf.fit(X_train,y_train)\n",
    "    \n",
    "_ = tree.plot_tree(clf,\n",
    "                   feature_names = iris_meta.feature_names,\n",
    "                   class_names=iris_meta.target_names,\n",
    "                   filled=True)"
   ],
   "execution_count": 45,
   "outputs": [
    {
     "output_type": "display_data",
     "data": {
      "text/plain": [
       "<Figure size 360x288 with 1 Axes>"
      ],
      "image/png": "[encoded data removed]"
     },
     "metadata": {
      "needs_background": "light"
     }
    }
   ]
  },
  {
   "cell_type": "markdown",
   "metadata": {
    "id": "4-Vh6got4QX2"
   },
   "source": [
    "Let's see the effects of min_samples_split. 2 is the default."
   ]
  },
  {
   "cell_type": "code",
   "metadata": {
    "id": "e1BeviS94QX2",
    "colab": {
     "base_uri": "https://localhost:8080/"
    },
    "outputId": "4f1dd64d-8741-4ae2-b934-f17d54efadbd",
    "executionInfo": {
     "status": "ok",
     "timestamp": 1676218798783,
     "user_tz": -60,
     "elapsed": 10,
     "user": {
      "displayName": "EMILIO MARTIN GALLARDO",
      "userId": "07497084488985389597"
     }
    }
   },
   "source": [
    "for min_samples in [2,10,20,30,100]:\n",
    "    clf = tree.DecisionTreeClassifier(min_samples_split=min_samples)\n",
    "    np.random.seed(42)\n",
    "    clf.fit(X_train,y_train)\n",
    "    y_test_pred = clf.predict(X_test)\n",
    "    accuracy_tree = metrics.accuracy_score(y_test, y_test_pred)\n",
    "    print(f\"With min_samples_split {min_samples}: {accuracy_tree:.2f}\")"
   ],
   "execution_count": 46,
   "outputs": [
    {
     "output_type": "stream",
     "name": "stdout",
     "text": [
      "With min_samples_split 2: 0.98\n",
      "With min_samples_split 10: 0.98\n",
      "With min_samples_split 20: 0.98\n",
      "With min_samples_split 30: 0.98\n",
      "With min_samples_split 100: 0.68\n"
     ]
    }
   ]
  },
  {
   "cell_type": "markdown",
   "metadata": {
    "id": "ZkXAUuStFKid"
   },
   "source": [
    "Finally, let's check another hyper-parameter called min_impurity_decrease: this means that a new level of the tree is created only if the information gain (that is, the decrease in entropy or gini) is larger than min_impurity_decrease. It is yet another way of controlling tree depth."
   ]
  },
  {
   "cell_type": "code",
   "metadata": {
    "id": "Su3NPiA94QX3",
    "colab": {
     "base_uri": "https://localhost:8080/"
    },
    "outputId": "108ac245-9ce7-4136-d462-cafe9b7c9f02",
    "executionInfo": {
     "status": "ok",
     "timestamp": 1676218799170,
     "user_tz": -60,
     "elapsed": 9,
     "user": {
      "displayName": "EMILIO MARTIN GALLARDO",
      "userId": "07497084488985389597"
     }
    }
   },
   "source": [
    "for min_impurity_decrease in np.linspace(0,2,num=10):\n",
    "    clf = tree.DecisionTreeClassifier(min_impurity_decrease=min_impurity_decrease)\n",
    "    np.random.seed(42)\n",
    "    clf.fit(X_train,y_train)\n",
    "    y_test_pred = clf.predict(X_test)\n",
    "    accuracy_tree = metrics.accuracy_score(y_test, y_test_pred)\n",
    "    print(f\"With min_impurity_decrease {min_impurity_decrease}: {accuracy_tree:.2f}\")"
   ],
   "execution_count": 47,
   "outputs": [
    {
     "output_type": "stream",
     "name": "stdout",
     "text": [
      "With min_impurity_decrease 0.0: 0.98\n",
      "With min_impurity_decrease 0.2222222222222222: 0.98\n",
      "With min_impurity_decrease 0.4444444444444444: 0.30\n",
      "With min_impurity_decrease 0.6666666666666666: 0.30\n",
      "With min_impurity_decrease 0.8888888888888888: 0.30\n",
      "With min_impurity_decrease 1.1111111111111112: 0.30\n",
      "With min_impurity_decrease 1.3333333333333333: 0.30\n",
      "With min_impurity_decrease 1.5555555555555554: 0.30\n",
      "With min_impurity_decrease 1.7777777777777777: 0.30\n",
      "With min_impurity_decrease 2.0: 0.30\n"
     ]
    }
   ]
  },
  {
   "cell_type": "markdown",
   "metadata": {
    "id": "RAJYiJr1OYmz"
   },
   "source": [
    "# Exercise: check the effect of changing hyper-parameter number of neighbors of KNN.\n",
    "\n",
    "Help about KNN in sklearn:\n",
    "\n",
    "KNN for classification is:\n",
    "\n",
    "from sklearn.neighbors import KNeighborsClassifier\n",
    "\n",
    "It can be defined with:\n",
    "\n",
    "clf = KNeighborsClassifier()\n",
    "\n",
    "(and then trained with .fit).\n",
    "\n",
    "Help for KNN for classification here:\n",
    "\n",
    "https://scikit-learn.org/stable/modules/generated/sklearn.neighbors.KNeighborsClassifier.html\n",
    "\n",
    "You can also check what happens when you change hyper-parameter weights, that can have three different values:\n",
    "\n",
    "- ‘uniform’ : uniform weights. All points in each neighborhood are weighted equally.\n",
    "\n",
    "- ‘distance’ : weight points by the inverse of their distance. in this case, closer neighbors of a query point will have a greater influence than neighbors which are further away.\n",
    "\n"
   ]
  },
  {
   "cell_type": "code",
   "metadata": {
    "id": "BnCg6h_MCPM4",
    "colab": {
     "base_uri": "https://localhost:8080/"
    },
    "outputId": "14ef001a-ff98-49d3-ea15-61df7d5126a9",
    "executionInfo": {
     "status": "ok",
     "timestamp": 1676218799170,
     "user_tz": -60,
     "elapsed": 6,
     "user": {
      "displayName": "EMILIO MARTIN GALLARDO",
      "userId": "07497084488985389597"
     }
    }
   },
   "source": [
    "from sklearn.neighbors import KNeighborsClassifier\n",
    "X_train, X_test, y_train, y_test = train_test_split(X, y, test_size=0.33, random_state=42)\n",
    "\n",
    "for k in range(1,100,5):\n",
    "    clf = KNeighborsClassifier(n_neighbors=k)\n",
    "    np.random.seed(42)\n",
    "    clf.fit(X_train,y_train)\n",
    "    y_test_pred = clf.predict(X_test)\n",
    "    accuracy_knn = metrics.accuracy_score(y_test, y_test_pred)\n",
    "    print(f\"With k neighbors {k}: {accuracy_knn:.2f}\")"
   ],
   "execution_count": 48,
   "outputs": [
    {
     "output_type": "stream",
     "name": "stdout",
     "text": [
      "With k neighbors 1: 0.98\n",
      "With k neighbors 6: 0.98\n",
      "With k neighbors 11: 1.00\n",
      "With k neighbors 16: 1.00\n",
      "With k neighbors 21: 1.00\n",
      "With k neighbors 26: 1.00\n",
      "With k neighbors 31: 0.98\n",
      "With k neighbors 36: 1.00\n",
      "With k neighbors 41: 0.96\n",
      "With k neighbors 46: 0.94\n",
      "With k neighbors 51: 0.94\n",
      "With k neighbors 56: 0.92\n",
      "With k neighbors 61: 0.92\n",
      "With k neighbors 66: 0.82\n",
      "With k neighbors 71: 0.30\n",
      "With k neighbors 76: 0.30\n",
      "With k neighbors 81: 0.30\n",
      "With k neighbors 86: 0.30\n",
      "With k neighbors 91: 0.30\n",
      "With k neighbors 96: 0.30\n"
     ]
    }
   ]
  },
  {
   "cell_type": "markdown",
   "metadata": {
    "id": "ZFONncXU4QX3"
   },
   "source": [
    "# Dealing with categorical variables in DecisionTreeClassifier\n",
    "\n",
    "- Sklearn implementation of trees CANNOT deal with categorical variables (in most cases).\n",
    "- They must be converted to dummy variables (one-hot-encoding)\n",
    "- Sklearn trees cannot deal with missing values either\n",
    "\n",
    "The typical workflow when working with scikit-learn is:\n",
    "\n",
    "1. Load data as a Pandas dataframe\n",
    "\n",
    "2. Do EDA (Exploratory Data Analysis) to understand your data. And this means:\n",
    "  - How many instances and attributes there are\n",
    "  - What type of attributes there are (numerical or categorical). This is done to check whether there are categorical features that should be encoded (as dummies / one-hot-encoding)\n",
    "  - What attributes have missing values, and how many\n",
    "  - Whether it is a classification or a regression problem (response variable), and in case of classification, whether the class is imbalanced.\n",
    "\n",
    "3. Encode the Pandas dataframe as a numpy matrix (get rid of categorical values and missing values)\n",
    "\n",
    "4. Do machine learning with scikit-learn"
   ]
  },
  {
   "cell_type": "code",
   "metadata": {
    "id": "vGwW0YWM4QX3",
    "executionInfo": {
     "status": "ok",
     "timestamp": 1676220166161,
     "user_tz": -60,
     "elapsed": 310,
     "user": {
      "displayName": "EMILIO MARTIN GALLARDO",
      "userId": "07497084488985389597"
     }
    }
   },
   "source": [
    "import pandas as pd\n",
    "tennis_df = pd.read_csv(\"https://raw.githubusercontent.com/emiliomartin84/Machine_Learning_Uc3m/main/Data/tennis.txt\", sep=\",\")"
   ],
   "execution_count": 50,
   "outputs": []
  },
  {
   "cell_type": "markdown",
   "metadata": {
    "id": "8-jAr-k5KQfe"
   },
   "source": [
    "We can check the first instances of sky with head"
   ]
  },
  {
   "cell_type": "code",
   "metadata": {
    "id": "C6fyz7ae4QX3",
    "colab": {
     "base_uri": "https://localhost:8080/",
     "height": 206
    },
    "outputId": "c1c1096b-024a-4e73-a55b-7034c0403d8e",
    "executionInfo": {
     "status": "ok",
     "timestamp": 1676220171398,
     "user_tz": -60,
     "elapsed": 182,
     "user": {
      "displayName": "EMILIO MARTIN GALLARDO",
      "userId": "07497084488985389597"
     }
    }
   },
   "source": [
    "tennis_df.head()"
   ],
   "execution_count": 51,
   "outputs": [
    {
     "output_type": "execute_result",
     "data": {
      "text/plain": [
       "        Sky  Temperature  Humidity  Windy Play\n",
       "0     sunny           85        85  False   no\n",
       "1     sunny           80        90   True   no\n",
       "2  overcast           83        86  False  yes\n",
       "3     rainy           70        96  False  yes\n",
       "4     rainy           68        80  False  yes"
      ],
      "text/html": [
       "\n",
       "  <div id=\"df-9736ecde-66ba-4194-b369-7d6c39cab735\">\n",
       "    <div class=\"colab-df-container\">\n",
       "      <div>\n",
       "<style scoped>\n",
       "    .dataframe tbody tr th:only-of-type {\n",
       "        vertical-align: middle;\n",
       "    }\n",
       "\n",
       "    .dataframe tbody tr th {\n",
       "        vertical-align: top;\n",
       "    }\n",
       "\n",
       "    .dataframe thead th {\n",
       "        text-align: right;\n",
       "    }\n",
       "</style>\n",
       "<table border=\"1\" class=\"dataframe\">\n",
       "  <thead>\n",
       "    <tr style=\"text-align: right;\">\n",
       "      <th></th>\n",
       "      <th>Sky</th>\n",
       "      <th>Temperature</th>\n",
       "      <th>Humidity</th>\n",
       "      <th>Windy</th>\n",
       "      <th>Play</th>\n",
       "    </tr>\n",
       "  </thead>\n",
       "  <tbody>\n",
       "    <tr>\n",
       "      <th>0</th>\n",
       "      <td>sunny</td>\n",
       "      <td>85</td>\n",
       "      <td>85</td>\n",
       "      <td>False</td>\n",
       "      <td>no</td>\n",
       "    </tr>\n",
       "    <tr>\n",
       "      <th>1</th>\n",
       "      <td>sunny</td>\n",
       "      <td>80</td>\n",
       "      <td>90</td>\n",
       "      <td>True</td>\n",
       "      <td>no</td>\n",
       "    </tr>\n",
       "    <tr>\n",
       "      <th>2</th>\n",
       "      <td>overcast</td>\n",
       "      <td>83</td>\n",
       "      <td>86</td>\n",
       "      <td>False</td>\n",
       "      <td>yes</td>\n",
       "    </tr>\n",
       "    <tr>\n",
       "      <th>3</th>\n",
       "      <td>rainy</td>\n",
       "      <td>70</td>\n",
       "      <td>96</td>\n",
       "      <td>False</td>\n",
       "      <td>yes</td>\n",
       "    </tr>\n",
       "    <tr>\n",
       "      <th>4</th>\n",
       "      <td>rainy</td>\n",
       "      <td>68</td>\n",
       "      <td>80</td>\n",
       "      <td>False</td>\n",
       "      <td>yes</td>\n",
       "    </tr>\n",
       "  </tbody>\n",
       "</table>\n",
       "</div>\n",
       "      <button class=\"colab-df-convert\" onclick=\"convertToInteractive('df-9736ecde-66ba-4194-b369-7d6c39cab735')\"\n",
       "              title=\"Convert this dataframe to an interactive table.\"\n",
       "              style=\"display:none;\">\n",
       "        \n",
       "  <svg xmlns=\"http://www.w3.org/2000/svg\" height=\"24px\"viewBox=\"0 0 24 24\"\n",
       "       width=\"24px\">\n",
       "    <path d=\"M0 0h24v24H0V0z\" fill=\"none\"/>\n",
       "    <path d=\"M18.56 5.44l.94 2.06.94-2.06 2.06-.94-2.06-.94-.94-2.06-.94 2.06-2.06.94zm-11 1L8.5 8.5l.94-2.06 2.06-.94-2.06-.94L8.5 2.5l-.94 2.06-2.06.94zm10 10l.94 2.06.94-2.06 2.06-.94-2.06-.94-.94-2.06-.94 2.06-2.06.94z\"/><path d=\"M17.41 7.96l-1.37-1.37c-.4-.4-.92-.59-1.43-.59-.52 0-1.04.2-1.43.59L10.3 9.45l-7.72 7.72c-.78.78-.78 2.05 0 2.83L4 21.41c.39.39.9.59 1.41.59.51 0 1.02-.2 1.41-.59l7.78-7.78 2.81-2.81c.8-.78.8-2.07 0-2.86zM5.41 20L4 18.59l7.72-7.72 1.47 1.35L5.41 20z\"/>\n",
       "  </svg>\n",
       "      </button>\n",
       "      \n",
       "  <style>\n",
       "    .colab-df-container {\n",
       "      display:flex;\n",
       "      flex-wrap:wrap;\n",
       "      gap: 12px;\n",
       "    }\n",
       "\n",
       "    .colab-df-convert {\n",
       "      background-color: #E8F0FE;\n",
       "      border: none;\n",
       "      border-radius: 50%;\n",
       "      cursor: pointer;\n",
       "      display: none;\n",
       "      fill: #1967D2;\n",
       "      height: 32px;\n",
       "      padding: 0 0 0 0;\n",
       "      width: 32px;\n",
       "    }\n",
       "\n",
       "    .colab-df-convert:hover {\n",
       "      background-color: #E2EBFA;\n",
       "      box-shadow: 0px 1px 2px rgba(60, 64, 67, 0.3), 0px 1px 3px 1px rgba(60, 64, 67, 0.15);\n",
       "      fill: #174EA6;\n",
       "    }\n",
       "\n",
       "    [theme=dark] .colab-df-convert {\n",
       "      background-color: #3B4455;\n",
       "      fill: #D2E3FC;\n",
       "    }\n",
       "\n",
       "    [theme=dark] .colab-df-convert:hover {\n",
       "      background-color: #434B5C;\n",
       "      box-shadow: 0px 1px 3px 1px rgba(0, 0, 0, 0.15);\n",
       "      filter: drop-shadow(0px 1px 2px rgba(0, 0, 0, 0.3));\n",
       "      fill: #FFFFFF;\n",
       "    }\n",
       "  </style>\n",
       "\n",
       "      <script>\n",
       "        const buttonEl =\n",
       "          document.querySelector('#df-9736ecde-66ba-4194-b369-7d6c39cab735 button.colab-df-convert');\n",
       "        buttonEl.style.display =\n",
       "          google.colab.kernel.accessAllowed ? 'block' : 'none';\n",
       "\n",
       "        async function convertToInteractive(key) {\n",
       "          const element = document.querySelector('#df-9736ecde-66ba-4194-b369-7d6c39cab735');\n",
       "          const dataTable =\n",
       "            await google.colab.kernel.invokeFunction('convertToInteractive',\n",
       "                                                     [key], {});\n",
       "          if (!dataTable) return;\n",
       "\n",
       "          const docLinkHtml = 'Like what you see? Visit the ' +\n",
       "            '<a target=\"_blank\" href=https://colab.research.google.com/notebooks/data_table.ipynb>data table notebook</a>'\n",
       "            + ' to learn more about interactive tables.';\n",
       "          element.innerHTML = '';\n",
       "          dataTable['output_type'] = 'display_data';\n",
       "          await google.colab.output.renderOutput(dataTable, element);\n",
       "          const docLink = document.createElement('div');\n",
       "          docLink.innerHTML = docLinkHtml;\n",
       "          element.appendChild(docLink);\n",
       "        }\n",
       "      </script>\n",
       "    </div>\n",
       "  </div>\n",
       "  "
      ]
     },
     "metadata": {},
     "execution_count": 51
    }
   ]
  },
  {
   "cell_type": "markdown",
   "metadata": {
    "id": "_mdqmMcdKYcl"
   },
   "source": [
    "With this dataset is very small, so we can visualize it whole"
   ]
  },
  {
   "cell_type": "code",
   "metadata": {
    "id": "pGckFPDlKdc2",
    "colab": {
     "base_uri": "https://localhost:8080/",
     "height": 489
    },
    "outputId": "71268a7e-207a-4f9e-d5f2-3ebbd42de2bb",
    "executionInfo": {
     "status": "ok",
     "timestamp": 1676220171810,
     "user_tz": -60,
     "elapsed": 209,
     "user": {
      "displayName": "EMILIO MARTIN GALLARDO",
      "userId": "07497084488985389597"
     }
    }
   },
   "source": [
    "tennis_df"
   ],
   "execution_count": 52,
   "outputs": [
    {
     "output_type": "execute_result",
     "data": {
      "text/plain": [
       "         Sky  Temperature  Humidity  Windy Play\n",
       "0      sunny           85        85  False   no\n",
       "1      sunny           80        90   True   no\n",
       "2   overcast           83        86  False  yes\n",
       "3      rainy           70        96  False  yes\n",
       "4      rainy           68        80  False  yes\n",
       "5      rainy           65        70   True   no\n",
       "6   overcast           64        65   True  yes\n",
       "7      sunny           72        95  False   no\n",
       "8      sunny           69        70  False  yes\n",
       "9      rainy           75        80  False  yes\n",
       "10     sunny           75        70   True  yes\n",
       "11  overcast           72        90   True  yes\n",
       "12  overcast           81        75  False  yes\n",
       "13     rainy           71        91   True   no"
      ],
      "text/html": [
       "\n",
       "  <div id=\"df-571ffd72-562d-4e34-87db-a3ad57e3a1a3\">\n",
       "    <div class=\"colab-df-container\">\n",
       "      <div>\n",
       "<style scoped>\n",
       "    .dataframe tbody tr th:only-of-type {\n",
       "        vertical-align: middle;\n",
       "    }\n",
       "\n",
       "    .dataframe tbody tr th {\n",
       "        vertical-align: top;\n",
       "    }\n",
       "\n",
       "    .dataframe thead th {\n",
       "        text-align: right;\n",
       "    }\n",
       "</style>\n",
       "<table border=\"1\" class=\"dataframe\">\n",
       "  <thead>\n",
       "    <tr style=\"text-align: right;\">\n",
       "      <th></th>\n",
       "      <th>Sky</th>\n",
       "      <th>Temperature</th>\n",
       "      <th>Humidity</th>\n",
       "      <th>Windy</th>\n",
       "      <th>Play</th>\n",
       "    </tr>\n",
       "  </thead>\n",
       "  <tbody>\n",
       "    <tr>\n",
       "      <th>0</th>\n",
       "      <td>sunny</td>\n",
       "      <td>85</td>\n",
       "      <td>85</td>\n",
       "      <td>False</td>\n",
       "      <td>no</td>\n",
       "    </tr>\n",
       "    <tr>\n",
       "      <th>1</th>\n",
       "      <td>sunny</td>\n",
       "      <td>80</td>\n",
       "      <td>90</td>\n",
       "      <td>True</td>\n",
       "      <td>no</td>\n",
       "    </tr>\n",
       "    <tr>\n",
       "      <th>2</th>\n",
       "      <td>overcast</td>\n",
       "      <td>83</td>\n",
       "      <td>86</td>\n",
       "      <td>False</td>\n",
       "      <td>yes</td>\n",
       "    </tr>\n",
       "    <tr>\n",
       "      <th>3</th>\n",
       "      <td>rainy</td>\n",
       "      <td>70</td>\n",
       "      <td>96</td>\n",
       "      <td>False</td>\n",
       "      <td>yes</td>\n",
       "    </tr>\n",
       "    <tr>\n",
       "      <th>4</th>\n",
       "      <td>rainy</td>\n",
       "      <td>68</td>\n",
       "      <td>80</td>\n",
       "      <td>False</td>\n",
       "      <td>yes</td>\n",
       "    </tr>\n",
       "    <tr>\n",
       "      <th>5</th>\n",
       "      <td>rainy</td>\n",
       "      <td>65</td>\n",
       "      <td>70</td>\n",
       "      <td>True</td>\n",
       "      <td>no</td>\n",
       "    </tr>\n",
       "    <tr>\n",
       "      <th>6</th>\n",
       "      <td>overcast</td>\n",
       "      <td>64</td>\n",
       "      <td>65</td>\n",
       "      <td>True</td>\n",
       "      <td>yes</td>\n",
       "    </tr>\n",
       "    <tr>\n",
       "      <th>7</th>\n",
       "      <td>sunny</td>\n",
       "      <td>72</td>\n",
       "      <td>95</td>\n",
       "      <td>False</td>\n",
       "      <td>no</td>\n",
       "    </tr>\n",
       "    <tr>\n",
       "      <th>8</th>\n",
       "      <td>sunny</td>\n",
       "      <td>69</td>\n",
       "      <td>70</td>\n",
       "      <td>False</td>\n",
       "      <td>yes</td>\n",
       "    </tr>\n",
       "    <tr>\n",
       "      <th>9</th>\n",
       "      <td>rainy</td>\n",
       "      <td>75</td>\n",
       "      <td>80</td>\n",
       "      <td>False</td>\n",
       "      <td>yes</td>\n",
       "    </tr>\n",
       "    <tr>\n",
       "      <th>10</th>\n",
       "      <td>sunny</td>\n",
       "      <td>75</td>\n",
       "      <td>70</td>\n",
       "      <td>True</td>\n",
       "      <td>yes</td>\n",
       "    </tr>\n",
       "    <tr>\n",
       "      <th>11</th>\n",
       "      <td>overcast</td>\n",
       "      <td>72</td>\n",
       "      <td>90</td>\n",
       "      <td>True</td>\n",
       "      <td>yes</td>\n",
       "    </tr>\n",
       "    <tr>\n",
       "      <th>12</th>\n",
       "      <td>overcast</td>\n",
       "      <td>81</td>\n",
       "      <td>75</td>\n",
       "      <td>False</td>\n",
       "      <td>yes</td>\n",
       "    </tr>\n",
       "    <tr>\n",
       "      <th>13</th>\n",
       "      <td>rainy</td>\n",
       "      <td>71</td>\n",
       "      <td>91</td>\n",
       "      <td>True</td>\n",
       "      <td>no</td>\n",
       "    </tr>\n",
       "  </tbody>\n",
       "</table>\n",
       "</div>\n",
       "      <button class=\"colab-df-convert\" onclick=\"convertToInteractive('df-571ffd72-562d-4e34-87db-a3ad57e3a1a3')\"\n",
       "              title=\"Convert this dataframe to an interactive table.\"\n",
       "              style=\"display:none;\">\n",
       "        \n",
       "  <svg xmlns=\"http://www.w3.org/2000/svg\" height=\"24px\"viewBox=\"0 0 24 24\"\n",
       "       width=\"24px\">\n",
       "    <path d=\"M0 0h24v24H0V0z\" fill=\"none\"/>\n",
       "    <path d=\"M18.56 5.44l.94 2.06.94-2.06 2.06-.94-2.06-.94-.94-2.06-.94 2.06-2.06.94zm-11 1L8.5 8.5l.94-2.06 2.06-.94-2.06-.94L8.5 2.5l-.94 2.06-2.06.94zm10 10l.94 2.06.94-2.06 2.06-.94-2.06-.94-.94-2.06-.94 2.06-2.06.94z\"/><path d=\"M17.41 7.96l-1.37-1.37c-.4-.4-.92-.59-1.43-.59-.52 0-1.04.2-1.43.59L10.3 9.45l-7.72 7.72c-.78.78-.78 2.05 0 2.83L4 21.41c.39.39.9.59 1.41.59.51 0 1.02-.2 1.41-.59l7.78-7.78 2.81-2.81c.8-.78.8-2.07 0-2.86zM5.41 20L4 18.59l7.72-7.72 1.47 1.35L5.41 20z\"/>\n",
       "  </svg>\n",
       "      </button>\n",
       "      \n",
       "  <style>\n",
       "    .colab-df-container {\n",
       "      display:flex;\n",
       "      flex-wrap:wrap;\n",
       "      gap: 12px;\n",
       "    }\n",
       "\n",
       "    .colab-df-convert {\n",
       "      background-color: #E8F0FE;\n",
       "      border: none;\n",
       "      border-radius: 50%;\n",
       "      cursor: pointer;\n",
       "      display: none;\n",
       "      fill: #1967D2;\n",
       "      height: 32px;\n",
       "      padding: 0 0 0 0;\n",
       "      width: 32px;\n",
       "    }\n",
       "\n",
       "    .colab-df-convert:hover {\n",
       "      background-color: #E2EBFA;\n",
       "      box-shadow: 0px 1px 2px rgba(60, 64, 67, 0.3), 0px 1px 3px 1px rgba(60, 64, 67, 0.15);\n",
       "      fill: #174EA6;\n",
       "    }\n",
       "\n",
       "    [theme=dark] .colab-df-convert {\n",
       "      background-color: #3B4455;\n",
       "      fill: #D2E3FC;\n",
       "    }\n",
       "\n",
       "    [theme=dark] .colab-df-convert:hover {\n",
       "      background-color: #434B5C;\n",
       "      box-shadow: 0px 1px 3px 1px rgba(0, 0, 0, 0.15);\n",
       "      filter: drop-shadow(0px 1px 2px rgba(0, 0, 0, 0.3));\n",
       "      fill: #FFFFFF;\n",
       "    }\n",
       "  </style>\n",
       "\n",
       "      <script>\n",
       "        const buttonEl =\n",
       "          document.querySelector('#df-571ffd72-562d-4e34-87db-a3ad57e3a1a3 button.colab-df-convert');\n",
       "        buttonEl.style.display =\n",
       "          google.colab.kernel.accessAllowed ? 'block' : 'none';\n",
       "\n",
       "        async function convertToInteractive(key) {\n",
       "          const element = document.querySelector('#df-571ffd72-562d-4e34-87db-a3ad57e3a1a3');\n",
       "          const dataTable =\n",
       "            await google.colab.kernel.invokeFunction('convertToInteractive',\n",
       "                                                     [key], {});\n",
       "          if (!dataTable) return;\n",
       "\n",
       "          const docLinkHtml = 'Like what you see? Visit the ' +\n",
       "            '<a target=\"_blank\" href=https://colab.research.google.com/notebooks/data_table.ipynb>data table notebook</a>'\n",
       "            + ' to learn more about interactive tables.';\n",
       "          element.innerHTML = '';\n",
       "          dataTable['output_type'] = 'display_data';\n",
       "          await google.colab.output.renderOutput(dataTable, element);\n",
       "          const docLink = document.createElement('div');\n",
       "          docLink.innerHTML = docLinkHtml;\n",
       "          element.appendChild(docLink);\n",
       "        }\n",
       "      </script>\n",
       "    </div>\n",
       "  </div>\n",
       "  "
      ]
     },
     "metadata": {},
     "execution_count": 52
    }
   ]
  },
  {
   "cell_type": "code",
   "metadata": {
    "id": "Vw_EJnkwLD9d",
    "colab": {
     "base_uri": "https://localhost:8080/"
    },
    "outputId": "434193e9-eae0-4292-b898-c98a3b2a0261",
    "executionInfo": {
     "status": "ok",
     "timestamp": 1676220171810,
     "user_tz": -60,
     "elapsed": 15,
     "user": {
      "displayName": "EMILIO MARTIN GALLARDO",
      "userId": "07497084488985389597"
     }
    }
   },
   "source": [
    "print('The shape of the data table is:')\n",
    "print('===============================')\n",
    "print(tennis_df.shape)\n",
    "print()\n",
    "\n",
    "print('The types of the attributes are:')\n",
    "print('================================')\n",
    "tennis_df.info()\n",
    "\n",
    "print()\n",
    "\n",
    "print('How many missing values per attribute:')\n",
    "print('======================================')\n",
    "print(tennis_df.isnull().sum())\n",
    "\n",
    "print()\n",
    "\n",
    "print('Fraction of missing values per attribute:')\n",
    "print('======================================')\n",
    "print(tennis_df.isnull().mean())\n"
   ],
   "execution_count": 53,
   "outputs": [
    {
     "output_type": "stream",
     "name": "stdout",
     "text": [
      "The shape of the data table is:\n",
      "===============================\n",
      "(14, 5)\n",
      "\n",
      "The types of the attributes are:\n",
      "================================\n",
      "<class 'pandas.core.frame.DataFrame'>\n",
      "RangeIndex: 14 entries, 0 to 13\n",
      "Data columns (total 5 columns):\n",
      " #   Column       Non-Null Count  Dtype \n",
      "---  ------       --------------  ----- \n",
      " 0   Sky          14 non-null     object\n",
      " 1   Temperature  14 non-null     int64 \n",
      " 2   Humidity     14 non-null     int64 \n",
      " 3   Windy        14 non-null     bool  \n",
      " 4   Play         14 non-null     object\n",
      "dtypes: bool(1), int64(2), object(2)\n",
      "memory usage: 590.0+ bytes\n",
      "\n",
      "How many missing values per attribute:\n",
      "======================================\n",
      "Sky            0\n",
      "Temperature    0\n",
      "Humidity       0\n",
      "Windy          0\n",
      "Play           0\n",
      "dtype: int64\n",
      "\n",
      "Fraction of missing values per attribute:\n",
      "======================================\n",
      "Sky            0.0\n",
      "Temperature    0.0\n",
      "Humidity       0.0\n",
      "Windy          0.0\n",
      "Play           0.0\n",
      "dtype: float64\n"
     ]
    }
   ]
  },
  {
   "cell_type": "markdown",
   "metadata": {
    "id": "_WpY6Yu8PPFm"
   },
   "source": [
    "Finally, we check whether the response variable is imbalanced. We can see it is not too imbalanced."
   ]
  },
  {
   "cell_type": "code",
   "metadata": {
    "id": "rG4XjXvQPJ61",
    "colab": {
     "base_uri": "https://localhost:8080/"
    },
    "outputId": "841adf0d-38ba-46fa-fc50-e1632026807b",
    "executionInfo": {
     "status": "ok",
     "timestamp": 1676220171810,
     "user_tz": -60,
     "elapsed": 13,
     "user": {
      "displayName": "EMILIO MARTIN GALLARDO",
      "userId": "07497084488985389597"
     }
    }
   },
   "source": [
    "print(tennis_df.Play.value_counts())\n",
    "\n",
    "print()\n",
    "\n",
    "print(tennis_df['Play'].value_counts())\n",
    "\n",
    "print()\n",
    "\n",
    "print(tennis_df['Play'].value_counts()/tennis_df['Play'].count())"
   ],
   "execution_count": 54,
   "outputs": [
    {
     "output_type": "stream",
     "name": "stdout",
     "text": [
      "yes    9\n",
      "no     5\n",
      "Name: Play, dtype: int64\n",
      "\n",
      "yes    9\n",
      "no     5\n",
      "Name: Play, dtype: int64\n",
      "\n",
      "yes    0.642857\n",
      "no     0.357143\n",
      "Name: Play, dtype: float64\n"
     ]
    }
   ]
  },
  {
   "cell_type": "markdown",
   "metadata": {
    "id": "6T8D5USxa34S"
   },
   "source": [
    "Now, we are going to encode:\n",
    "- Our categorical features (Sky and Windy)\n",
    "- The response variable (the class: Play)\n",
    "\n",
    "But first, we will separate the data table into inputs (X) and output (y)\n",
    "\n",
    "We will use a ColumnTransformer, that allows to process only some particular columns, and leaves the others untouched (passthrough)"
   ]
  },
  {
   "cell_type": "code",
   "metadata": {
    "id": "6XLHZORsa0yz",
    "colab": {
     "base_uri": "https://localhost:8080/"
    },
    "outputId": "27648426-c3b5-41d6-d70d-166daffed3f7",
    "executionInfo": {
     "status": "ok",
     "timestamp": 1676220171810,
     "user_tz": -60,
     "elapsed": 10,
     "user": {
      "displayName": "EMILIO MARTIN GALLARDO",
      "userId": "07497084488985389597"
     }
    }
   },
   "source": [
    "y_df = tennis_df['Play']\n",
    "print(y_df)"
   ],
   "execution_count": 55,
   "outputs": [
    {
     "output_type": "stream",
     "name": "stdout",
     "text": [
      "0      no\n",
      "1      no\n",
      "2     yes\n",
      "3     yes\n",
      "4     yes\n",
      "5      no\n",
      "6     yes\n",
      "7      no\n",
      "8     yes\n",
      "9     yes\n",
      "10    yes\n",
      "11    yes\n",
      "12    yes\n",
      "13     no\n",
      "Name: Play, dtype: object\n"
     ]
    }
   ]
  },
  {
   "cell_type": "code",
   "metadata": {
    "id": "6SKomsD9bgQU",
    "colab": {
     "base_uri": "https://localhost:8080/"
    },
    "outputId": "48c2e231-4ccb-42ef-b5e9-a11c5abd401b",
    "executionInfo": {
     "status": "ok",
     "timestamp": 1676220171810,
     "user_tz": -60,
     "elapsed": 8,
     "user": {
      "displayName": "EMILIO MARTIN GALLARDO",
      "userId": "07497084488985389597"
     }
    }
   },
   "source": [
    "X_df = tennis_df.drop('Play', axis=1)\n",
    "print(X_df)"
   ],
   "execution_count": 56,
   "outputs": [
    {
     "output_type": "stream",
     "name": "stdout",
     "text": [
      "         Sky  Temperature  Humidity  Windy\n",
      "0      sunny           85        85  False\n",
      "1      sunny           80        90   True\n",
      "2   overcast           83        86  False\n",
      "3      rainy           70        96  False\n",
      "4      rainy           68        80  False\n",
      "5      rainy           65        70   True\n",
      "6   overcast           64        65   True\n",
      "7      sunny           72        95  False\n",
      "8      sunny           69        70  False\n",
      "9      rainy           75        80  False\n",
      "10     sunny           75        70   True\n",
      "11  overcast           72        90   True\n",
      "12  overcast           81        75  False\n",
      "13     rainy           71        91   True\n"
     ]
    }
   ]
  },
  {
   "cell_type": "markdown",
   "metadata": {
    "id": "QzuEqVg3a1ea"
   },
   "source": [
    "We will use now a ColumnTransformer, that allows to process only some particular columns, and leaves the others untouched (passthrough). In this case, we will process only the categorical ones. \n",
    "The output of this transformation is a numpy matrix (!!)"
   ]
  },
  {
   "cell_type": "code",
   "source": [
    "from sklearn.preprocessing import OneHotEncoder\n",
    "from sklearn.compose import ColumnTransformer\n",
    "\n",
    "# numeric_features = ['Temperature', 'Humidity']\n",
    "categorical_features = ['Sky', 'Windy']\n",
    "\n",
    "preprocessor = ColumnTransformer(\n",
    "    transformers = [ \n",
    "                    ('categorical', OneHotEncoder(handle_unknown='ignore'), \n",
    "                                    categorical_features)\n",
    "                    ],\n",
    "                    remainder='passthrough' \n",
    ")\n",
    "\n",
    "preprocessor.fit(X_df)\n",
    "X = preprocessor.transform(X_df)\n",
    "\n",
    "# Notice that now we have 7 columnos\n",
    "print(X.shape)\n",
    "print()\n",
    "\n",
    "# Notice that now the type of the data matrix is numpy, which can already be used by sklearn\n",
    "print(type(X))\n",
    "print()\n",
    "\n",
    "# The first three columns are the dummies for Sky, the second two columns are the dummies for Windy\n",
    "# The last two columns are Temperature and Humidity, untouched\n",
    "# Please, notice that the order of columns has changed (not important, in principle)"
   ],
   "metadata": {
    "colab": {
     "base_uri": "https://localhost:8080/"
    },
    "id": "wwdnSKoRA9CO",
    "outputId": "4a0e34d5-cd4b-4159-85fe-48be3cf914c3",
    "executionInfo": {
     "status": "ok",
     "timestamp": 1676220171811,
     "user_tz": -60,
     "elapsed": 7,
     "user": {
      "displayName": "EMILIO MARTIN GALLARDO",
      "userId": "07497084488985389597"
     }
    }
   },
   "execution_count": 57,
   "outputs": [
    {
     "output_type": "stream",
     "name": "stdout",
     "text": [
      "(14, 7)\n",
      "\n",
      "<class 'numpy.ndarray'>\n",
      "\n"
     ]
    }
   ]
  },
  {
   "cell_type": "code",
   "metadata": {
    "id": "2WGtsLHX4QX4",
    "colab": {
     "base_uri": "https://localhost:8080/"
    },
    "outputId": "4611aeca-bf64-4dcd-f951-8c7366933ece",
    "executionInfo": {
     "status": "ok",
     "timestamp": 1676220171811,
     "user_tz": -60,
     "elapsed": 6,
     "user": {
      "displayName": "EMILIO MARTIN GALLARDO",
      "userId": "07497084488985389597"
     }
    }
   },
   "source": [
    "from sklearn.preprocessing import OneHotEncoder\n",
    "from sklearn.compose import ColumnTransformer\n",
    "\n",
    "# numeric_features = ['Temperature', 'Humidity']\n",
    "categorical_features = ['Sky', 'Windy']\n",
    "\n",
    "preprocessor = ColumnTransformer(\n",
    "    transformers = [ \n",
    "                    ('categorical', OneHotEncoder(drop='if_binary', \n",
    "                                                  handle_unknown='ignore'), \n",
    "                                    categorical_features)\n",
    "                    ],\n",
    "                    remainder='passthrough' \n",
    ")\n",
    "\n",
    "preprocessor.fit(X_df)\n",
    "X = preprocessor.transform(X_df)\n",
    "\n",
    "# Notice that now we have 6 columnos\n",
    "print(X.shape)\n",
    "print()\n",
    "\n",
    "# Notice that now the type of the data matrix is numpy, which can already be used by sklearn\n",
    "print(type(X))\n",
    "print()\n",
    "\n",
    "# The first three columns are the dummies for Sky, the second column is the dummy for Windy\n",
    "# The last two columns are Temperature and Humidity, untouched\n",
    "# Please, notice that the order of columns has changed, but the last versions of sklearn\n",
    "# return the names of variables, which is useful to understand where the variables come from\n",
    "\n",
    "print(X)\n",
    "\n",
    "from pprint import pprint\n",
    "pprint(list(preprocessor.get_feature_names_out()))"
   ],
   "execution_count": 58,
   "outputs": [
    {
     "output_type": "stream",
     "name": "stdout",
     "text": [
      "(14, 6)\n",
      "\n",
      "<class 'numpy.ndarray'>\n",
      "\n",
      "[[ 0.  0.  1.  0. 85. 85.]\n",
      " [ 0.  0.  1.  1. 80. 90.]\n",
      " [ 1.  0.  0.  0. 83. 86.]\n",
      " [ 0.  1.  0.  0. 70. 96.]\n",
      " [ 0.  1.  0.  0. 68. 80.]\n",
      " [ 0.  1.  0.  1. 65. 70.]\n",
      " [ 1.  0.  0.  1. 64. 65.]\n",
      " [ 0.  0.  1.  0. 72. 95.]\n",
      " [ 0.  0.  1.  0. 69. 70.]\n",
      " [ 0.  1.  0.  0. 75. 80.]\n",
      " [ 0.  0.  1.  1. 75. 70.]\n",
      " [ 1.  0.  0.  1. 72. 90.]\n",
      " [ 1.  0.  0.  0. 81. 75.]\n",
      " [ 0.  1.  0.  1. 71. 91.]]\n",
      "['categorical__Sky_overcast',\n",
      " 'categorical__Sky_rainy',\n",
      " 'categorical__Sky_sunny',\n",
      " 'categorical__Windy_True',\n",
      " 'remainder__Temperature',\n",
      " 'remainder__Humidity']\n"
     ]
    }
   ]
  },
  {
   "cell_type": "markdown",
   "metadata": {
    "id": "bQ7O7ElKoyDp"
   },
   "source": [
    "Sometimes it is time consuming to enumerate all categorical columns. We can use make_column_selector / selector in order to select the types we need."
   ]
  },
  {
   "cell_type": "code",
   "metadata": {
    "id": "U4ATnGozohJZ",
    "colab": {
     "base_uri": "https://localhost:8080/"
    },
    "outputId": "5934ebdf-caf2-4ced-a1bd-e1de4e76a979",
    "executionInfo": {
     "status": "ok",
     "timestamp": 1676220172031,
     "user_tz": -60,
     "elapsed": 224,
     "user": {
      "displayName": "EMILIO MARTIN GALLARDO",
      "userId": "07497084488985389597"
     }
    }
   },
   "source": [
    "from sklearn.preprocessing import OneHotEncoder\n",
    "from sklearn.compose import ColumnTransformer\n",
    "from sklearn.compose import make_column_selector as selector\n",
    "\n",
    "# numeric_features = ['Temperature', 'Humidity']\n",
    "categorical_features = ['Sky', 'Windy']\n",
    "\n",
    "preprocessor = ColumnTransformer(\n",
    "    transformers = [ \n",
    "                    ('categorical', OneHotEncoder(handle_unknown='ignore'),  \n",
    "                                    selector(dtype_include=[\"object\",\"bool\"]))\n",
    "                    ],\n",
    "                    remainder='passthrough' \n",
    ")\n",
    "\n",
    "preprocessor.fit(X_df)\n",
    "X = preprocessor.transform(X_df)\n",
    "\n",
    "# Notice that now we have 7 columnos\n",
    "print(X.shape)\n",
    "print()\n",
    "\n",
    "# Notice that now the type of the data matrix is numpy, which can already be used by sklearn\n",
    "print(type(X))\n",
    "print()\n",
    "\n",
    "# The first three columns are the dummies for Sky, the second two columns are the dummies for Windy\n",
    "# The last two columns are Temperature and Humidity, untouched\n",
    "# Please, notice that the order of columns has changed (not important, in principle)\n",
    "\n",
    "print(X)"
   ],
   "execution_count": 59,
   "outputs": [
    {
     "output_type": "stream",
     "name": "stdout",
     "text": [
      "(14, 7)\n",
      "\n",
      "<class 'numpy.ndarray'>\n",
      "\n",
      "[[ 0.  0.  1.  1.  0. 85. 85.]\n",
      " [ 0.  0.  1.  0.  1. 80. 90.]\n",
      " [ 1.  0.  0.  1.  0. 83. 86.]\n",
      " [ 0.  1.  0.  1.  0. 70. 96.]\n",
      " [ 0.  1.  0.  1.  0. 68. 80.]\n",
      " [ 0.  1.  0.  0.  1. 65. 70.]\n",
      " [ 1.  0.  0.  0.  1. 64. 65.]\n",
      " [ 0.  0.  1.  1.  0. 72. 95.]\n",
      " [ 0.  0.  1.  1.  0. 69. 70.]\n",
      " [ 0.  1.  0.  1.  0. 75. 80.]\n",
      " [ 0.  0.  1.  0.  1. 75. 70.]\n",
      " [ 1.  0.  0.  0.  1. 72. 90.]\n",
      " [ 1.  0.  0.  1.  0. 81. 75.]\n",
      " [ 0.  1.  0.  0.  1. 71. 91.]]\n"
     ]
    }
   ]
  },
  {
   "cell_type": "markdown",
   "metadata": {
    "id": "wDXkuInIduqR"
   },
   "source": [
    "Now, we need to encode the class into integers. We do that with labelencoder."
   ]
  },
  {
   "cell_type": "code",
   "metadata": {
    "id": "vfihfozAyP-N",
    "colab": {
     "base_uri": "https://localhost:8080/"
    },
    "outputId": "6a8d31b4-4c37-4f80-f30f-f026304c52b2",
    "executionInfo": {
     "status": "ok",
     "timestamp": 1676220172032,
     "user_tz": -60,
     "elapsed": 7,
     "user": {
      "displayName": "EMILIO MARTIN GALLARDO",
      "userId": "07497084488985389597"
     }
    }
   },
   "source": [
    "from sklearn import preprocessing\n",
    "le = preprocessing.LabelEncoder()\n",
    "le.fit(y_df)\n",
    "\n",
    "y = le.transform(y_df)\n",
    "print(y)\n",
    "\n",
    "# Actually, it seems that sklearn can use the original y_df, so we could have done y = y_df"
   ],
   "execution_count": 60,
   "outputs": [
    {
     "output_type": "stream",
     "name": "stdout",
     "text": [
      "[0 0 1 1 1 0 1 0 1 1 1 1 1 0]\n"
     ]
    }
   ]
  },
  {
   "cell_type": "markdown",
   "metadata": {
    "id": "n7w5y9ASdgVF"
   },
   "source": [
    "Finally, we just copy the code for evaluating decision trees, and for constructing the final model.\n",
    "We apply that to our (X,y)"
   ]
  },
  {
   "cell_type": "code",
   "metadata": {
    "id": "B9sDNvM74QX4",
    "colab": {
     "base_uri": "https://localhost:8080/"
    },
    "outputId": "48247564-4c08-4e05-809c-628ae45ea32e",
    "executionInfo": {
     "status": "ok",
     "timestamp": 1676220172032,
     "user_tz": -60,
     "elapsed": 5,
     "user": {
      "displayName": "EMILIO MARTIN GALLARDO",
      "userId": "07497084488985389597"
     }
    }
   },
   "source": [
    "from sklearn.model_selection import train_test_split\n",
    "from sklearn import metrics\n",
    "from sklearn import tree\n",
    "\n",
    "# Train/test split\n",
    "X_train, X_test, y_train, y_test = train_test_split(X, y, test_size=0.33, random_state=42)\n",
    "\n",
    "# Here, we set our model to classification tree\n",
    "clf = tree.DecisionTreeClassifier()\n",
    "np.random.seed(42) # reproducibility\n",
    "# We train it\n",
    "clf.fit(X_train, y_train)\n",
    "# We obtain predictions on the test set\n",
    "y_test_pred = clf.predict(X_test)\n",
    "# We compute accuracy\n",
    "accuracy_tree = metrics.accuracy_score(y_test, y_test_pred)\n",
    "print(f\"Accuracy of the tree: {accuracy_tree} \")\n",
    "\n",
    "# We finally compute the final model with all available data\n",
    "\n",
    "final_clf = tree.DecisionTreeClassifier()\n",
    "np.random.seed(42)  # reproducibility\n",
    "final_clf.fit(X, y)"
   ],
   "execution_count": 61,
   "outputs": [
    {
     "output_type": "stream",
     "name": "stdout",
     "text": [
      "Accuracy of the tree: 0.4 \n"
     ]
    },
    {
     "output_type": "execute_result",
     "data": {
      "text/plain": [
       "DecisionTreeClassifier()"
      ]
     },
     "metadata": {},
     "execution_count": 61
    }
   ]
  },
  {
   "cell_type": "code",
   "metadata": {
    "id": "rXrsYLX1assM",
    "colab": {
     "base_uri": "https://localhost:8080/",
     "height": 466
    },
    "outputId": "6d57680a-fe29-45e8-bb2d-1cd12f521caa",
    "executionInfo": {
     "status": "ok",
     "timestamp": 1676220172448,
     "user_tz": -60,
     "elapsed": 418,
     "user": {
      "displayName": "EMILIO MARTIN GALLARDO",
      "userId": "07497084488985389597"
     }
    }
   },
   "source": [
    "import matplotlib.pyplot as plt\n",
    "fig = plt.figure(figsize=(10,8))\n",
    "    \n",
    "_ = tree.plot_tree(final_clf, \n",
    "                   feature_names = list(sorted(X_df['Sky'].unique())) + list(sorted(X_df['Windy'].unique())) + ['Temperature', 'Humidity'],\n",
    "                   class_names= list(sorted(y_df.unique())),\n",
    "                   filled=True)"
   ],
   "execution_count": 62,
   "outputs": [
    {
     "output_type": "display_data",
     "data": {
      "text/plain": [
       "<Figure size 720x576 with 1 Axes>"
      ],
      "image/png": "[encoded data removed]"
     },
     "metadata": {
      "needs_background": "light"
     }
    }
   ]
  },
  {
   "cell_type": "code",
   "metadata": {
    "id": "_3dHiNA53rdr",
    "executionInfo": {
     "status": "ok",
     "timestamp": 1676220172449,
     "user_tz": -60,
     "elapsed": 10,
     "user": {
      "displayName": "EMILIO MARTIN GALLARDO",
      "userId": "07497084488985389597"
     }
    }
   },
   "source": [
    "# !pip install statsmodels"
   ],
   "execution_count": 63,
   "outputs": []
  },
  {
   "cell_type": "markdown",
   "metadata": {
    "id": "Yvrx1JqN4yZm"
   },
   "source": [
    "Given that this is a 2-class classification problem, we can construct a confidence interval for the accuracy\n",
    "We can see it is very inaccurate ..."
   ]
  },
  {
   "cell_type": "code",
   "metadata": {
    "id": "JHaewbCxiBQ6",
    "colab": {
     "base_uri": "https://localhost:8080/"
    },
    "outputId": "95cfb4f3-bb7a-48c8-b72e-f5360f3708bd",
    "executionInfo": {
     "status": "ok",
     "timestamp": 1676220172449,
     "user_tz": -60,
     "elapsed": 9,
     "user": {
      "displayName": "EMILIO MARTIN GALLARDO",
      "userId": "07497084488985389597"
     }
    }
   },
   "source": [
    "from statsmodels.stats.proportion import proportion_confint\n",
    "print(f\"Only {len(y_test)} instances on the testing partition\")\n",
    "print(f\"Tree accuracy: {accuracy_tree} \")\n",
    "proportion_confint(len(y_test)* accuracy_tree, len(y_test), method=\"wilson\" )"
   ],
   "execution_count": 64,
   "outputs": [
    {
     "output_type": "stream",
     "name": "stdout",
     "text": [
      "Only 5 instances on the testing partition\n",
      "Tree accuracy: 0.4 \n"
     ]
    },
    {
     "output_type": "execute_result",
     "data": {
      "text/plain": [
       "(0.11762077423264788, 0.7692757187239871)"
      ]
     },
     "metadata": {},
     "execution_count": 64
    }
   ]
  },
  {
   "cell_type": "markdown",
   "metadata": {
    "id": "ADfIN64L4QX4"
   },
   "source": [
    "# Regression trees with holdout evaluation"
   ]
  },
  {
   "cell_type": "markdown",
   "metadata": {
    "id": "L2r3ejoO4QX4"
   },
   "source": [
    "Let's load the Boston dataset and check its description. Its data about housing prices depending on the characteristics of the zone**"
   ]
  },
  {
   "cell_type": "code",
   "metadata": {
    "id": "jRUioZm04QX4",
    "colab": {
     "base_uri": "https://localhost:8080/"
    },
    "outputId": "c9b4a472-4c9f-4831-b849-a91400ce1583",
    "executionInfo": {
     "status": "ok",
     "timestamp": 1676220172449,
     "user_tz": -60,
     "elapsed": 8,
     "user": {
      "displayName": "EMILIO MARTIN GALLARDO",
      "userId": "07497084488985389597"
     }
    }
   },
   "source": [
    "# The Boston dataset is also included within sklearn\n",
    "from sklearn.datasets import load_boston\n",
    "boston_meta = load_boston()\n",
    "print(boston_meta.DESCR)"
   ],
   "execution_count": 65,
   "outputs": [
    {
     "output_type": "stream",
     "name": "stdout",
     "text": [
      ".. _boston_dataset:\n",
      "\n",
      "Boston house prices dataset\n",
      "---------------------------\n",
      "\n",
      "**Data Set Characteristics:**  \n",
      "\n",
      "    :Number of Instances: 506 \n",
      "\n",
      "    :Number of Attributes: 13 numeric/categorical predictive. Median Value (attribute 14) is usually the target.\n",
      "\n",
      "    :Attribute Information (in order):\n",
      "        - CRIM     per capita crime rate by town\n",
      "        - ZN       proportion of residential land zoned for lots over 25,000 sq.ft.\n",
      "        - INDUS    proportion of non-retail business acres per town\n",
      "        - CHAS     Charles River dummy variable (= 1 if tract bounds river; 0 otherwise)\n",
      "        - NOX      nitric oxides concentration (parts per 10 million)\n",
      "        - RM       average number of rooms per dwelling\n",
      "        - AGE      proportion of owner-occupied units built prior to 1940\n",
      "        - DIS      weighted distances to five Boston employment centres\n",
      "        - RAD      index of accessibility to radial highways\n",
      "        - TAX      full-value property-tax rate per $10,000\n",
      "        - PTRATIO  pupil-teacher ratio by town\n",
      "        - B        1000(Bk - 0.63)^2 where Bk is the proportion of black people by town\n",
      "        - LSTAT    % lower status of the population\n",
      "        - MEDV     Median value of owner-occupied homes in $1000's\n",
      "\n",
      "    :Missing Attribute Values: None\n",
      "\n",
      "    :Creator: Harrison, D. and Rubinfeld, D.L.\n",
      "\n",
      "This is a copy of UCI ML housing dataset.\n",
      "https://archive.ics.uci.edu/ml/machine-learning-databases/housing/\n",
      "\n",
      "\n",
      "This dataset was taken from the StatLib library which is maintained at Carnegie Mellon University.\n",
      "\n",
      "The Boston house-price data of Harrison, D. and Rubinfeld, D.L. 'Hedonic\n",
      "prices and the demand for clean air', J. Environ. Economics & Management,\n",
      "vol.5, 81-102, 1978.   Used in Belsley, Kuh & Welsch, 'Regression diagnostics\n",
      "...', Wiley, 1980.   N.B. Various transformations are used in the table on\n",
      "pages 244-261 of the latter.\n",
      "\n",
      "The Boston house-price data has been used in many machine learning papers that address regression\n",
      "problems.   \n",
      "     \n",
      ".. topic:: References\n",
      "\n",
      "   - Belsley, Kuh & Welsch, 'Regression diagnostics: Identifying Influential Data and Sources of Collinearity', Wiley, 1980. 244-261.\n",
      "   - Quinlan,R. (1993). Combining Instance-Based and Model-Based Learning. In Proceedings on the Tenth International Conference of Machine Learning, 236-243, University of Massachusetts, Amherst. Morgan Kaufmann.\n",
      "\n"
     ]
    },
    {
     "output_type": "stream",
     "name": "stderr",
     "text": [
      "/usr/local/lib/python3.8/dist-packages/sklearn/utils/deprecation.py:87: FutureWarning: Function load_boston is deprecated; `load_boston` is deprecated in 1.0 and will be removed in 1.2.\n",
      "\n",
      "    The Boston housing prices dataset has an ethical problem. You can refer to\n",
      "    the documentation of this function for further details.\n",
      "\n",
      "    The scikit-learn maintainers therefore strongly discourage the use of this\n",
      "    dataset unless the purpose of the code is to study and educate about\n",
      "    ethical issues in data science and machine learning.\n",
      "\n",
      "    In this special case, you can fetch the dataset from the original\n",
      "    source::\n",
      "\n",
      "        import pandas as pd\n",
      "        import numpy as np\n",
      "\n",
      "\n",
      "        data_url = \"http://lib.stat.cmu.edu/datasets/boston\"\n",
      "        raw_df = pd.read_csv(data_url, sep=\"\\s+\", skiprows=22, header=None)\n",
      "        data = np.hstack([raw_df.values[::2, :], raw_df.values[1::2, :2]])\n",
      "        target = raw_df.values[1::2, 2]\n",
      "\n",
      "    Alternative datasets include the California housing dataset (i.e.\n",
      "    :func:`~sklearn.datasets.fetch_california_housing`) and the Ames housing\n",
      "    dataset. You can load the datasets as follows::\n",
      "\n",
      "        from sklearn.datasets import fetch_california_housing\n",
      "        housing = fetch_california_housing()\n",
      "\n",
      "    for the California housing dataset and::\n",
      "\n",
      "        from sklearn.datasets import fetch_openml\n",
      "        housing = fetch_openml(name=\"house_prices\", as_frame=True)\n",
      "\n",
      "    for the Ames housing dataset.\n",
      "    \n",
      "  warnings.warn(msg, category=FutureWarning)\n"
     ]
    }
   ]
  },
  {
   "cell_type": "code",
   "metadata": {
    "id": "4R6sLJoI4QX4",
    "colab": {
     "base_uri": "https://localhost:8080/"
    },
    "outputId": "64fe96f6-d9b1-4835-c874-80070a0e8910",
    "executionInfo": {
     "status": "ok",
     "timestamp": 1676220172449,
     "user_tz": -60,
     "elapsed": 5,
     "user": {
      "displayName": "EMILIO MARTIN GALLARDO",
      "userId": "07497084488985389597"
     }
    }
   },
   "source": [
    "X = boston_meta.data\n",
    "y = boston_meta.target\n",
    "print(X.shape, y.shape)"
   ],
   "execution_count": 66,
   "outputs": [
    {
     "output_type": "stream",
     "name": "stdout",
     "text": [
      "(506, 13) (506,)\n"
     ]
    }
   ]
  },
  {
   "cell_type": "markdown",
   "metadata": {
    "id": "APMXvjj14QX4"
   },
   "source": [
    "The main change is that we use a DecisionTreeRegressor and the metric is now RMSE"
   ]
  },
  {
   "cell_type": "code",
   "metadata": {
    "id": "TZ21Wukc4QX5",
    "colab": {
     "base_uri": "https://localhost:8080/"
    },
    "outputId": "31ee896e-8990-4a81-bf0e-a687595c1324",
    "executionInfo": {
     "status": "ok",
     "timestamp": 1676220172658,
     "user_tz": -60,
     "elapsed": 213,
     "user": {
      "displayName": "EMILIO MARTIN GALLARDO",
      "userId": "07497084488985389597"
     }
    }
   },
   "source": [
    "from sklearn.model_selection import train_test_split\n",
    "from sklearn import metrics\n",
    "from sklearn import tree\n",
    "import numpy as np\n",
    "\n",
    "# Train/test split\n",
    "X_train, X_test, y_train, y_test = train_test_split(X, y, test_size=0.33, random_state=42)\n",
    "\n",
    "# Here, we set our model to classification tree\n",
    "regr = tree.DecisionTreeRegressor()\n",
    "np.random.seed(42) # reproducibility\n",
    "# We train it\n",
    "regr.fit(X_train, y_train)\n",
    "# We obtain predictions on the test set\n",
    "y_test_pred = regr.predict(X_test)\n",
    "# We compute accuracy\n",
    "rmse_tree = np.sqrt(metrics.mean_squared_error(y_test, y_test_pred))\n",
    "print(f\"RMSE of the tree: {rmse_tree}\")\n",
    "\n",
    "# We would have to compute the final model with all available data\n",
    "# Not done here, only interested on test RMSE"
   ],
   "execution_count": 67,
   "outputs": [
    {
     "output_type": "stream",
     "name": "stdout",
     "text": [
      "RMSE of the tree: 4.338022949890013\n"
     ]
    }
   ]
  },
  {
   "cell_type": "markdown",
   "metadata": {
    "id": "JZnnKRiQyNOH"
   },
   "source": [
    "Is it better than a trivial regressor?"
   ]
  },
  {
   "cell_type": "code",
   "metadata": {
    "id": "RQiGRsbpyN0z",
    "colab": {
     "base_uri": "https://localhost:8080/"
    },
    "outputId": "6b4f4d2d-2efa-476f-9d5b-efafa51edba2",
    "executionInfo": {
     "status": "ok",
     "timestamp": 1676220172659,
     "user_tz": -60,
     "elapsed": 5,
     "user": {
      "displayName": "EMILIO MARTIN GALLARDO",
      "userId": "07497084488985389597"
     }
    }
   },
   "source": [
    "from sklearn.dummy import DummyRegressor\n",
    "regr_mean = DummyRegressor(strategy=\"mean\")\n",
    "regr_mean.fit(X_train, y_train)\n",
    "rmse_mean = np.sqrt(metrics.mean_squared_error(y_test, regr_mean.predict(X_test)))\n",
    "\n",
    "print(f\"RMSE of the tree: {rmse_tree}\")\n",
    "print(f\"RMSE of dummy(mean): {rmse_mean}\")\n",
    "print(f\"RMSE ratio tree/dummy(mean): {rmse_tree/rmse_mean}\")"
   ],
   "execution_count": 68,
   "outputs": [
    {
     "output_type": "stream",
     "name": "stdout",
     "text": [
      "RMSE of the tree: 4.338022949890013\n",
      "RMSE of dummy(mean): 8.799980682431661\n",
      "RMSE ratio tree/dummy(mean): 0.49295823552777457\n"
     ]
    }
   ]
  },
  {
   "cell_type": "markdown",
   "metadata": {
    "id": "qERBOOPQ0yzI"
   },
   "source": [
    "What about MAE?"
   ]
  },
  {
   "cell_type": "code",
   "metadata": {
    "id": "wJVUu1JO0xiJ",
    "colab": {
     "base_uri": "https://localhost:8080/"
    },
    "outputId": "f77f04ab-5f64-4554-f952-f008e052742c",
    "executionInfo": {
     "status": "ok",
     "timestamp": 1676220172659,
     "user_tz": -60,
     "elapsed": 3,
     "user": {
      "displayName": "EMILIO MARTIN GALLARDO",
      "userId": "07497084488985389597"
     }
    }
   },
   "source": [
    "mae_tree = metrics.mean_absolute_error(y_test, y_test_pred)\n",
    "\n",
    "from sklearn.dummy import DummyRegressor\n",
    "regr_median = DummyRegressor(strategy=\"median\")\n",
    "regr_median.fit(X_train, y_train)\n",
    "mae_median = metrics.mean_absolute_error(y_test, regr_median.predict(X_test))\n",
    "\n",
    "print(f\"MAE of the tree: {mae_tree}\")\n",
    "print(f\"MAE of dummy(median): {mae_median}\")\n",
    "print(f\"MAE ratio tree/dummy(median): {mae_tree/mae_median}\")"
   ],
   "execution_count": 69,
   "outputs": [
    {
     "output_type": "stream",
     "name": "stdout",
     "text": [
      "MAE of the tree: 2.953293413173653\n",
      "MAE of dummy(median): 6.119760479041916\n",
      "MAE ratio tree/dummy(median): 0.4825831702544032\n"
     ]
    }
   ]
  },
  {
   "cell_type": "markdown",
   "metadata": {
    "id": "DQ0bJSuz4QX5"
   },
   "source": [
    "The tree has more than 10 levels and it is very hard to visualize. Let's visualize one with only four levels"
   ]
  },
  {
   "cell_type": "code",
   "metadata": {
    "id": "V1-moMyM4QX5",
    "colab": {
     "base_uri": "https://localhost:8080/",
     "height": 1000
    },
    "outputId": "abb8e5ff-254e-49d2-b2d3-ec886ebf849f",
    "executionInfo": {
     "status": "ok",
     "timestamp": 1676220173894,
     "user_tz": -60,
     "elapsed": 1237,
     "user": {
      "displayName": "EMILIO MARTIN GALLARDO",
      "userId": "07497084488985389597"
     }
    }
   },
   "source": [
    "regr = tree.DecisionTreeRegressor(max_depth=4)\n",
    "np.random.seed(42) # reproducibility\n",
    "# We train it\n",
    "regr.fit(X_train, y_train)\n",
    "\n",
    "import matplotlib.pyplot as plt\n",
    "fig = plt.figure(figsize=(25,20))\n",
    "    \n",
    "_ = tree.plot_tree(regr,\n",
    "                   feature_names = boston_meta.feature_names,\n",
    "                   filled=True)"
   ],
   "execution_count": 70,
   "outputs": [
    {
     "output_type": "display_data",
     "data": {
      "text/plain": [
       "<Figure size 1800x1440 with 1 Axes>"
      ],
      "image/png": "[encoded data removed]"
     },
     "metadata": {
      "needs_background": "light"
     }
    }
   ]
  },
  {
   "cell_type": "markdown",
   "metadata": {
    "id": "6in65Vuu4QX5"
   },
   "source": [
    "**Now we train model trees (for regression)**"
   ]
  },
  {
   "cell_type": "code",
   "metadata": {
    "id": "GBI37quR4QX5",
    "executionInfo": {
     "status": "ok",
     "timestamp": 1676220173894,
     "user_tz": -60,
     "elapsed": 3,
     "user": {
      "displayName": "EMILIO MARTIN GALLARDO",
      "userId": "07497084488985389597"
     }
    }
   },
   "source": [
    "# More info about this implementation of model trees\n",
    "# https://towardsdatascience.com/linear-tree-the-perfect-mix-of-linear-model-and-decision-tree-2eaed21936b7\n",
    "# https://pypi.org/project/linear-tree/\n",
    "\n",
    "# IMPORTANT: This implementation of Model Trees is able to deal with Categorical Features (whose values are encoded as integers 0,1,2, ...)\n",
    "# in order to use categorical features, the parameter categorical_features must be used."
   ],
   "execution_count": 71,
   "outputs": []
  },
  {
   "cell_type": "code",
   "metadata": {
    "id": "rMTJR8N61dsr",
    "executionInfo": {
     "status": "ok",
     "timestamp": 1676220173895,
     "user_tz": -60,
     "elapsed": 3,
     "user": {
      "displayName": "EMILIO MARTIN GALLARDO",
      "userId": "07497084488985389597"
     }
    }
   },
   "source": [
    "# !pip install --upgrade linear-tree"
   ],
   "execution_count": 72,
   "outputs": []
  },
  {
   "cell_type": "code",
   "metadata": {
    "id": "-rHXrM9B4QX5",
    "colab": {
     "base_uri": "https://localhost:8080/"
    },
    "outputId": "3c9db912-a8d0-4238-fe61-8de168cb3fe2",
    "executionInfo": {
     "status": "ok",
     "timestamp": 1676220174606,
     "user_tz": -60,
     "elapsed": 714,
     "user": {
      "displayName": "EMILIO MARTIN GALLARDO",
      "userId": "07497084488985389597"
     }
    }
   },
   "source": [
    "from sklearn.model_selection import train_test_split\n",
    "from sklearn import metrics\n",
    "from sklearn import tree\n",
    "\n",
    "from sklearn.linear_model import LinearRegression\n",
    "from lineartree import LinearTreeRegressor\n",
    "\n",
    "# Train/test split\n",
    "X_train, X_test, y_train, y_test = train_test_split(X, y, test_size=0.33, random_state=42)\n",
    "\n",
    "regr = LinearTreeRegressor(base_estimator=LinearRegression())\n",
    "np.random.seed(42) # reproducibility\n",
    "# We train it\n",
    "regr.fit(X_train, y_train)\n",
    "# We obtain predictions on the test set\n",
    "y_test_pred = regr.predict(X_test)\n",
    "# We compute accuracy\n",
    "rmse_tree = np.sqrt(metrics.mean_squared_error(y_test, y_test_pred))\n",
    "print(f\"RMSE of the tree: {rmse_tree}\")\n",
    "\n",
    "# We would have to compute the final model with all available data\n",
    "# Not done here, only interested on test RMSE"
   ],
   "execution_count": 73,
   "outputs": [
    {
     "output_type": "stream",
     "name": "stdout",
     "text": [
      "RMSE of the tree: 3.9384559533238233\n"
     ]
    }
   ]
  },
  {
   "cell_type": "markdown",
   "metadata": {
    "id": "AZMaKH1q86_U"
   },
   "source": [
    "The internal nodes of the model tree below:"
   ]
  },
  {
   "cell_type": "code",
   "metadata": {
    "id": "xmXWQ1SD4QX5",
    "colab": {
     "base_uri": "https://localhost:8080/",
     "height": 701
    },
    "outputId": "5d1e5ae9-fa70-4535-c689-6d2276059ccc",
    "executionInfo": {
     "status": "ok",
     "timestamp": 1676220175266,
     "user_tz": -60,
     "elapsed": 663,
     "user": {
      "displayName": "EMILIO MARTIN GALLARDO",
      "userId": "07497084488985389597"
     }
    }
   },
   "source": [
    "regr.plot_model(feature_names=boston_meta.feature_names)"
   ],
   "execution_count": 74,
   "outputs": [
    {
     "output_type": "execute_result",
     "data": {
      "image/png": "[encoded data removed]",
      "text/plain": [
       "<IPython.core.display.Image object>"
      ]
     },
     "metadata": {},
     "execution_count": 74
    }
   ]
  },
  {
   "cell_type": "markdown",
   "metadata": {
    "id": "OeGJtMBM9Djz"
   },
   "source": [
    "In order to check the linear models at the leaves, we have to follow a longer process. What follows shows the coefficient of the linear model at node 5."
   ]
  },
  {
   "cell_type": "code",
   "metadata": {
    "id": "OgM4K5gS4Ac4",
    "executionInfo": {
     "status": "ok",
     "timestamp": 1676220175266,
     "user_tz": -60,
     "elapsed": 12,
     "user": {
      "displayName": "EMILIO MARTIN GALLARDO",
      "userId": "07497084488985389597"
     }
    }
   },
   "source": [
    "leaves = regr.summary(feature_names=boston_meta.feature_names, only_leaves=True, max_depth=None)"
   ],
   "execution_count": 75,
   "outputs": []
  },
  {
   "cell_type": "code",
   "metadata": {
    "id": "Ika31dVu4xgB",
    "colab": {
     "base_uri": "https://localhost:8080/"
    },
    "outputId": "7215edc6-f37f-4915-db9c-14f559cec7c5",
    "executionInfo": {
     "status": "ok",
     "timestamp": 1676220175266,
     "user_tz": -60,
     "elapsed": 12,
     "user": {
      "displayName": "EMILIO MARTIN GALLARDO",
      "userId": "07497084488985389597"
     }
    }
   },
   "source": [
    "leaves"
   ],
   "execution_count": 76,
   "outputs": [
    {
     "output_type": "execute_result",
     "data": {
      "text/plain": [
       "{5: {'loss': 3.82553, 'samples': 41, 'models': LinearRegression()},\n",
       " 6: {'loss': 3.58658, 'samples': 52, 'models': LinearRegression()},\n",
       " 4: {'loss': 15.89915, 'samples': 34, 'models': LinearRegression()},\n",
       " 7: {'loss': 5.699, 'samples': 39, 'models': LinearRegression()},\n",
       " 11: {'loss': 1.13317, 'samples': 35, 'models': LinearRegression()},\n",
       " 12: {'loss': 1.47914, 'samples': 35, 'models': LinearRegression()},\n",
       " 13: {'loss': 3.15773, 'samples': 37, 'models': LinearRegression()},\n",
       " 14: {'loss': 3.34566, 'samples': 66, 'models': LinearRegression()}}"
      ]
     },
     "metadata": {},
     "execution_count": 76
    }
   ]
  },
  {
   "cell_type": "code",
   "metadata": {
    "id": "8jpFdkSA6C-H",
    "colab": {
     "base_uri": "https://localhost:8080/"
    },
    "outputId": "511f2dad-cde3-4c5d-fb53-9a03884690a9",
    "executionInfo": {
     "status": "ok",
     "timestamp": 1676220243947,
     "user_tz": -60,
     "elapsed": 187,
     "user": {
      "displayName": "EMILIO MARTIN GALLARDO",
      "userId": "07497084488985389597"
     }
    }
   },
   "source": [
    "from pprint import pprint\n",
    "model_5_coefs = leaves[5]['models'].coef_\n",
    "model_5_intercept = leaves[5]['models'].intercept_\n",
    "pprint(list(zip(boston_meta.feature_names, model_5_coefs)))\n",
    "pprint(f'intercept: {model_5_intercept}')"
   ],
   "execution_count": 81,
   "outputs": [
    {
     "output_type": "stream",
     "name": "stdout",
     "text": [
      "[('CRIM', -19.432014),\n",
      " ('ZN', 0.016401902),\n",
      " ('INDUS', -0.91679126),\n",
      " ('CHAS', 1.1965727),\n",
      " ('NOX', 11.977452),\n",
      " ('RM', 13.109238),\n",
      " ('AGE', -0.04886487),\n",
      " ('DIS', -1.1659225),\n",
      " ('RAD', 1.1688397),\n",
      " ('TAX', -0.019450134),\n",
      " ('PTRATIO', -0.11991037),\n",
      " ('B', -0.008536331),\n",
      " ('LSTAT', -0.33810928)]\n",
      "'intercept: -43.130828857421875'\n"
     ]
    }
   ]
  },
  {
   "cell_type": "code",
   "metadata": {
    "id": "4As4OQmq8FFE",
    "executionInfo": {
     "status": "ok",
     "timestamp": 1676220250812,
     "user_tz": -60,
     "elapsed": 180,
     "user": {
      "displayName": "EMILIO MARTIN GALLARDO",
      "userId": "07497084488985389597"
     }
    }
   },
   "source": [
    "?LinearTreeRegressor"
   ],
   "execution_count": 82,
   "outputs": []
  }
 ]
}
